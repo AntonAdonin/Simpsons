{
 "cells": [
  {
   "cell_type": "code",
   "execution_count": 1,
   "metadata": {
    "execution": {
     "iopub.execute_input": "2022-04-12T02:25:17.335377Z",
     "iopub.status.busy": "2022-04-12T02:25:17.335040Z",
     "iopub.status.idle": "2022-04-12T02:25:19.516579Z",
     "shell.execute_reply": "2022-04-12T02:25:19.515619Z",
     "shell.execute_reply.started": "2022-04-12T02:25:17.335288Z"
    },
    "trusted": true,
    "ExecuteTime": {
     "end_time": "2024-03-13T06:35:28.147584Z",
     "start_time": "2024-03-13T06:35:26.344525Z"
    }
   },
   "outputs": [
    {
     "name": "stdout",
     "output_type": "stream",
     "text": [
      "PyTorch Version:  2.2.1\n",
      "Torchvision Version:  0.17.1\n",
      "CUDA is not available.  Training on CPU ...\n"
     ]
    }
   ],
   "source": [
    "# !pip install --upgrade torch\n",
    "\n",
    "import os\n",
    "import pickle\n",
    "import random\n",
    "# Ignore warnings\n",
    "import warnings\n",
    "from glob import glob\n",
    "from pathlib import Path\n",
    "\n",
    "import numpy as np\n",
    "import torch\n",
    "import torch.nn as nn\n",
    "import torchvision\n",
    "from PIL import Image\n",
    "from sklearn.preprocessing import LabelEncoder\n",
    "from torch.utils.data import Dataset, DataLoader\n",
    "from torchvision import transforms\n",
    "from tqdm import tqdm\n",
    "\n",
    "warnings.filterwarnings(\"ignore\")\n",
    "\n",
    "print(\"PyTorch Version: \", torch.__version__)\n",
    "print(\"Torchvision Version: \", torchvision.__version__)\n",
    "\n",
    "train_on_gpu = torch.cuda.is_available()\n",
    "\n",
    "if not train_on_gpu:\n",
    "    print('CUDA is not available.  Training on CPU ...')\n",
    "else:\n",
    "    print('CUDA is available!  Training on GPU ...')"
   ]
  },
  {
   "cell_type": "code",
   "execution_count": 2,
   "metadata": {
    "execution": {
     "iopub.execute_input": "2022-04-12T02:25:22.972171Z",
     "iopub.status.busy": "2022-04-12T02:25:22.971514Z",
     "iopub.status.idle": "2022-04-12T02:25:22.982425Z",
     "shell.execute_reply": "2022-04-12T02:25:22.981528Z",
     "shell.execute_reply.started": "2022-04-12T02:25:22.972133Z"
    },
    "trusted": true,
    "ExecuteTime": {
     "end_time": "2024-03-13T06:35:28.152645Z",
     "start_time": "2024-03-13T06:35:28.148606Z"
    }
   },
   "outputs": [],
   "source": [
    "SEED = 42\n",
    "\n",
    "random.seed(SEED)\n",
    "np.random.seed(SEED)\n",
    "torch.manual_seed(SEED)\n",
    "torch.cuda.manual_seed(SEED)\n",
    "torch.backends.cudnn.deterministic = True"
   ]
  },
  {
   "cell_type": "code",
   "execution_count": 3,
   "metadata": {
    "execution": {
     "iopub.execute_input": "2022-04-12T02:25:23.285331Z",
     "iopub.status.busy": "2022-04-12T02:25:23.284770Z",
     "iopub.status.idle": "2022-04-12T02:25:23.289631Z",
     "shell.execute_reply": "2022-04-12T02:25:23.288847Z",
     "shell.execute_reply.started": "2022-04-12T02:25:23.285291Z"
    },
    "trusted": true,
    "ExecuteTime": {
     "end_time": "2024-03-13T06:35:28.155411Z",
     "start_time": "2024-03-13T06:35:28.153627Z"
    }
   },
   "outputs": [],
   "source": [
    "DATA_MODES = ['train', 'val', 'test']\n",
    "RESCALE_SIZE = 256\n",
    "DEVICE = torch.device(\"mps\")"
   ]
  },
  {
   "cell_type": "code",
   "execution_count": 4,
   "metadata": {
    "execution": {
     "iopub.execute_input": "2022-04-12T02:32:11.646057Z",
     "iopub.status.busy": "2022-04-12T02:32:11.645603Z",
     "iopub.status.idle": "2022-04-12T02:32:11.658082Z",
     "shell.execute_reply": "2022-04-12T02:32:11.656923Z",
     "shell.execute_reply.started": "2022-04-12T02:32:11.646024Z"
    },
    "trusted": true,
    "ExecuteTime": {
     "end_time": "2024-03-13T06:35:28.160486Z",
     "start_time": "2024-03-13T06:35:28.156734Z"
    }
   },
   "outputs": [],
   "source": [
    "class SimpsonsDataset(Dataset):\n",
    "    def __init__(self, files, mode, augmentations=None):\n",
    "        super().__init__()\n",
    "        self.files = files\n",
    "        self.mode = mode\n",
    "        self.augmentations = augmentations\n",
    "\n",
    "        if self.mode not in DATA_MODES:\n",
    "            print(f'wrong mode: {self.mode}')\n",
    "            raise NameError\n",
    "\n",
    "        self.len_ = len(self.files)\n",
    "        self.label_encoder = LabelEncoder()\n",
    "\n",
    "        if self.mode != 'test':\n",
    "            self.labels = [path.parent.name for path in self.files]\n",
    "            self.label_encoder.fit(self.labels)\n",
    "\n",
    "            with open('label_encoder.pkl', 'wb') as le_dump:\n",
    "                pickle.dump(self.label_encoder, le_dump)\n",
    "\n",
    "    def __len__(self):\n",
    "        return self.len_\n",
    "\n",
    "    def load_sample(self, file):\n",
    "        image = Image.open(file)\n",
    "        image.load()\n",
    "        return image\n",
    "\n",
    "    def __getitem__(self, index):\n",
    "        transform = transforms.Compose([\n",
    "            transforms.Resize(256),\n",
    "            transforms.CenterCrop(224),\n",
    "            transforms.ToTensor(),\n",
    "            transforms.Normalize([0.485, 0.456, 0.406], [0.229, 0.224, 0.225])\n",
    "        ])\n",
    "\n",
    "        x = self.load_sample(self.files[index])\n",
    "        #     x = self._prepare_sample(x)\n",
    "        #     x = np.array(x / 255, dtype='float32')\n",
    "\n",
    "        x = transform(x)\n",
    "\n",
    "        if self.mode == 'test':\n",
    "            return x\n",
    "        else:\n",
    "\n",
    "            label = self.labels[index]\n",
    "            label_id = self.label_encoder.transform([label])\n",
    "            y = label_id.item()\n",
    "            return x, y\n",
    "\n",
    "#   def _prepare_sample(self, image):\n",
    "#     image = image.resize((RESCALE_SIZE, RESCALE_SIZE))\n",
    "#     return np.array(image)"
   ]
  },
  {
   "cell_type": "code",
   "execution_count": 11,
   "metadata": {
    "execution": {
     "iopub.execute_input": "2022-04-12T02:32:36.527933Z",
     "iopub.status.busy": "2022-04-12T02:32:36.527387Z",
     "iopub.status.idle": "2022-04-12T02:32:36.651369Z",
     "shell.execute_reply": "2022-04-12T02:32:36.650544Z",
     "shell.execute_reply.started": "2022-04-12T02:32:36.527894Z"
    },
    "trusted": true,
    "ExecuteTime": {
     "end_time": "2024-03-13T06:38:40.111255Z",
     "start_time": "2024-03-13T06:38:40.104317Z"
    }
   },
   "outputs": [
    {
     "name": "stdout",
     "output_type": "stream",
     "text": [
      "Number of images in Training file: 0\n"
     ]
    }
   ],
   "source": [
    "train_dir = Path('./train_dir/simpsons_dataset/')\n",
    "test_dir = Path('./test_dir/kaggle_simpson_testset/')\n",
    "files_training = glob(os.path.join(train_dir, '*/*.jpg'))\n",
    "num_images = len(files_training)\n",
    "print('Number of images in Training file:', num_images)"
   ]
  },
  {
   "cell_type": "code",
   "execution_count": 6,
   "metadata": {
    "execution": {
     "iopub.execute_input": "2022-04-12T02:32:37.376361Z",
     "iopub.status.busy": "2022-04-12T02:32:37.375853Z",
     "iopub.status.idle": "2022-04-12T02:32:37.423121Z",
     "shell.execute_reply": "2022-04-12T02:32:37.422478Z",
     "shell.execute_reply.started": "2022-04-12T02:32:37.376324Z"
    },
    "trusted": true,
    "ExecuteTime": {
     "end_time": "2024-03-13T06:35:28.244243Z",
     "start_time": "2024-03-13T06:35:28.232562Z"
    }
   },
   "outputs": [
    {
     "name": "stdout",
     "output_type": "stream",
     "text": [
      "class             Count:\n",
      "------------------------\n",
      "maggie_simpson       128\n",
      "charles_montgomery_burns 1193\n",
      "patty_bouvier        72\n",
      "ralph_wiggum         89\n",
      "chief_wiggum         986\n",
      "milhouse_van_houten  1079\n",
      "rainier_wolfcastle   45\n",
      "cletus_spuckler      47\n",
      "martin_prince        71\n",
      "lenny_leonard        310\n",
      "sideshow_bob         877\n",
      "fat_tony             27\n",
      "selma_bouvier        103\n",
      "barney_gumble        106\n",
      "lionel_hutz          3\n",
      "gil                  27\n",
      "moe_szyslak          1452\n",
      "carl_carlson         98\n",
      "edna_krabappel       457\n",
      "snake_jailbird       55\n",
      "groundskeeper_willie 121\n",
      "sideshow_mel         40\n",
      "ned_flanders         1454\n",
      "abraham_grampa_simpson 913\n",
      "krusty_the_clown     1206\n",
      "waylon_smithers      182\n",
      "apu_nahasapeemapetilon 623\n",
      "marge_simpson        1291\n",
      "comic_book_guy       469\n",
      "nelson_muntz         358\n",
      "mayor_quimby         246\n",
      "kent_brockman        498\n",
      "professor_john_frink 65\n",
      "principal_skinner    1194\n",
      "bart_simpson         1342\n",
      "lisa_simpson         1354\n",
      "otto_mann            32\n",
      "troy_mcclure         8\n",
      "miss_hoover          17\n",
      "disco_stu            8\n",
      "homer_simpson        2246\n",
      "agnes_skinner        42\n",
      "\n",
      "Minumum imgages per category: 3 Category: agnes_skinner\n",
      "Average number of Images per Category: 498\n",
      "Total number of classes: 42\n"
     ]
    }
   ],
   "source": [
    "min_images = 1000\n",
    "im_cnt = []\n",
    "class_names = []\n",
    "print('{:18s}'.format('class'), end='')\n",
    "print('Count:')\n",
    "print('-' * 24)\n",
    "for folder in os.listdir(train_dir):\n",
    "    if os.path.isdir(os.path.join(train_dir, folder)):\n",
    "        folder_num = len(os.listdir(os.path.join(train_dir, folder)))\n",
    "        im_cnt.append(folder_num)\n",
    "        class_names.append(folder)\n",
    "        print('{:20s}'.format(folder), end=' ')\n",
    "        print(folder_num)\n",
    "        if (folder_num < min_images):\n",
    "            min_images = folder_num\n",
    "            folder_name = folder\n",
    "\n",
    "num_classes = len(class_names)\n",
    "print(\"\\nMinumum imgages per category:\", min_images, 'Category:', folder)\n",
    "print('Average number of Images per Category: {:.0f}'.format(np.array(im_cnt).mean()))\n",
    "print('Total number of classes: {}'.format(num_classes))"
   ]
  },
  {
   "cell_type": "code",
   "execution_count": 7,
   "metadata": {
    "execution": {
     "iopub.execute_input": "2022-04-12T02:32:40.070510Z",
     "iopub.status.busy": "2022-04-12T02:32:40.069958Z",
     "iopub.status.idle": "2022-04-12T02:32:43.202566Z",
     "shell.execute_reply": "2022-04-12T02:32:43.201815Z",
     "shell.execute_reply.started": "2022-04-12T02:32:40.070472Z"
    },
    "trusted": true,
    "ExecuteTime": {
     "end_time": "2024-03-13T06:35:28.339765Z",
     "start_time": "2024-03-13T06:35:28.244791Z"
    }
   },
   "outputs": [],
   "source": [
    "train_val_files = sorted(list(train_dir.rglob('*.jpg')))\n",
    "test_files = sorted(list(test_dir.rglob('*.jpg')))"
   ]
  },
  {
   "cell_type": "code",
   "execution_count": 8,
   "metadata": {
    "execution": {
     "iopub.execute_input": "2022-04-12T02:32:43.205774Z",
     "iopub.status.busy": "2022-04-12T02:32:43.205265Z",
     "iopub.status.idle": "2022-04-12T02:32:43.392874Z",
     "shell.execute_reply": "2022-04-12T02:32:43.392119Z",
     "shell.execute_reply.started": "2022-04-12T02:32:43.205735Z"
    },
    "trusted": true,
    "ExecuteTime": {
     "end_time": "2024-03-13T06:35:28.616152Z",
     "start_time": "2024-03-13T06:35:28.340515Z"
    }
   },
   "outputs": [
    {
     "ename": "ValueError",
     "evalue": "The least populated class in y has only 1 member, which is too few. The minimum number of groups for any class cannot be less than 2.",
     "output_type": "error",
     "traceback": [
      "\u001B[0;31m---------------------------------------------------------------------------\u001B[0m",
      "\u001B[0;31mValueError\u001B[0m                                Traceback (most recent call last)",
      "Cell \u001B[0;32mIn[8], line 6\u001B[0m\n\u001B[1;32m      4\u001B[0m train_files, val_files \u001B[38;5;241m=\u001B[39m train_test_split(train_val_files, test_size\u001B[38;5;241m=\u001B[39m\u001B[38;5;241m0.3\u001B[39m, stratify\u001B[38;5;241m=\u001B[39mtrain_val_labels)\n\u001B[1;32m      5\u001B[0m val_labels \u001B[38;5;241m=\u001B[39m [path\u001B[38;5;241m.\u001B[39mparent\u001B[38;5;241m.\u001B[39mname \u001B[38;5;28;01mfor\u001B[39;00m path \u001B[38;5;129;01min\u001B[39;00m val_files]\n\u001B[0;32m----> 6\u001B[0m val_files, oos_files \u001B[38;5;241m=\u001B[39m \u001B[43mtrain_test_split\u001B[49m\u001B[43m(\u001B[49m\u001B[43mval_files\u001B[49m\u001B[43m,\u001B[49m\u001B[43m \u001B[49m\u001B[43mtest_size\u001B[49m\u001B[38;5;241;43m=\u001B[39;49m\u001B[38;5;241;43m0.4\u001B[39;49m\u001B[43m,\u001B[49m\u001B[43m \u001B[49m\u001B[43mstratify\u001B[49m\u001B[38;5;241;43m=\u001B[39;49m\u001B[43mval_labels\u001B[49m\u001B[43m)\u001B[49m\n",
      "File \u001B[0;32m~/Simpsons/venv/lib/python3.10/site-packages/sklearn/utils/_param_validation.py:213\u001B[0m, in \u001B[0;36mvalidate_params.<locals>.decorator.<locals>.wrapper\u001B[0;34m(*args, **kwargs)\u001B[0m\n\u001B[1;32m    207\u001B[0m \u001B[38;5;28;01mtry\u001B[39;00m:\n\u001B[1;32m    208\u001B[0m     \u001B[38;5;28;01mwith\u001B[39;00m config_context(\n\u001B[1;32m    209\u001B[0m         skip_parameter_validation\u001B[38;5;241m=\u001B[39m(\n\u001B[1;32m    210\u001B[0m             prefer_skip_nested_validation \u001B[38;5;129;01mor\u001B[39;00m global_skip_validation\n\u001B[1;32m    211\u001B[0m         )\n\u001B[1;32m    212\u001B[0m     ):\n\u001B[0;32m--> 213\u001B[0m         \u001B[38;5;28;01mreturn\u001B[39;00m \u001B[43mfunc\u001B[49m\u001B[43m(\u001B[49m\u001B[38;5;241;43m*\u001B[39;49m\u001B[43margs\u001B[49m\u001B[43m,\u001B[49m\u001B[43m \u001B[49m\u001B[38;5;241;43m*\u001B[39;49m\u001B[38;5;241;43m*\u001B[39;49m\u001B[43mkwargs\u001B[49m\u001B[43m)\u001B[49m\n\u001B[1;32m    214\u001B[0m \u001B[38;5;28;01mexcept\u001B[39;00m InvalidParameterError \u001B[38;5;28;01mas\u001B[39;00m e:\n\u001B[1;32m    215\u001B[0m     \u001B[38;5;66;03m# When the function is just a wrapper around an estimator, we allow\u001B[39;00m\n\u001B[1;32m    216\u001B[0m     \u001B[38;5;66;03m# the function to delegate validation to the estimator, but we replace\u001B[39;00m\n\u001B[1;32m    217\u001B[0m     \u001B[38;5;66;03m# the name of the estimator by the name of the function in the error\u001B[39;00m\n\u001B[1;32m    218\u001B[0m     \u001B[38;5;66;03m# message to avoid confusion.\u001B[39;00m\n\u001B[1;32m    219\u001B[0m     msg \u001B[38;5;241m=\u001B[39m re\u001B[38;5;241m.\u001B[39msub(\n\u001B[1;32m    220\u001B[0m         \u001B[38;5;124mr\u001B[39m\u001B[38;5;124m\"\u001B[39m\u001B[38;5;124mparameter of \u001B[39m\u001B[38;5;124m\\\u001B[39m\u001B[38;5;124mw+ must be\u001B[39m\u001B[38;5;124m\"\u001B[39m,\n\u001B[1;32m    221\u001B[0m         \u001B[38;5;124mf\u001B[39m\u001B[38;5;124m\"\u001B[39m\u001B[38;5;124mparameter of \u001B[39m\u001B[38;5;132;01m{\u001B[39;00mfunc\u001B[38;5;241m.\u001B[39m\u001B[38;5;18m__qualname__\u001B[39m\u001B[38;5;132;01m}\u001B[39;00m\u001B[38;5;124m must be\u001B[39m\u001B[38;5;124m\"\u001B[39m,\n\u001B[1;32m    222\u001B[0m         \u001B[38;5;28mstr\u001B[39m(e),\n\u001B[1;32m    223\u001B[0m     )\n",
      "File \u001B[0;32m~/Simpsons/venv/lib/python3.10/site-packages/sklearn/model_selection/_split.py:2681\u001B[0m, in \u001B[0;36mtrain_test_split\u001B[0;34m(test_size, train_size, random_state, shuffle, stratify, *arrays)\u001B[0m\n\u001B[1;32m   2677\u001B[0m         CVClass \u001B[38;5;241m=\u001B[39m ShuffleSplit\n\u001B[1;32m   2679\u001B[0m     cv \u001B[38;5;241m=\u001B[39m CVClass(test_size\u001B[38;5;241m=\u001B[39mn_test, train_size\u001B[38;5;241m=\u001B[39mn_train, random_state\u001B[38;5;241m=\u001B[39mrandom_state)\n\u001B[0;32m-> 2681\u001B[0m     train, test \u001B[38;5;241m=\u001B[39m \u001B[38;5;28;43mnext\u001B[39;49m\u001B[43m(\u001B[49m\u001B[43mcv\u001B[49m\u001B[38;5;241;43m.\u001B[39;49m\u001B[43msplit\u001B[49m\u001B[43m(\u001B[49m\u001B[43mX\u001B[49m\u001B[38;5;241;43m=\u001B[39;49m\u001B[43marrays\u001B[49m\u001B[43m[\u001B[49m\u001B[38;5;241;43m0\u001B[39;49m\u001B[43m]\u001B[49m\u001B[43m,\u001B[49m\u001B[43m \u001B[49m\u001B[43my\u001B[49m\u001B[38;5;241;43m=\u001B[39;49m\u001B[43mstratify\u001B[49m\u001B[43m)\u001B[49m\u001B[43m)\u001B[49m\n\u001B[1;32m   2683\u001B[0m \u001B[38;5;28;01mreturn\u001B[39;00m \u001B[38;5;28mlist\u001B[39m(\n\u001B[1;32m   2684\u001B[0m     chain\u001B[38;5;241m.\u001B[39mfrom_iterable(\n\u001B[1;32m   2685\u001B[0m         (_safe_indexing(a, train), _safe_indexing(a, test)) \u001B[38;5;28;01mfor\u001B[39;00m a \u001B[38;5;129;01min\u001B[39;00m arrays\n\u001B[1;32m   2686\u001B[0m     )\n\u001B[1;32m   2687\u001B[0m )\n",
      "File \u001B[0;32m~/Simpsons/venv/lib/python3.10/site-packages/sklearn/model_selection/_split.py:1749\u001B[0m, in \u001B[0;36mBaseShuffleSplit.split\u001B[0;34m(self, X, y, groups)\u001B[0m\n\u001B[1;32m   1719\u001B[0m \u001B[38;5;250m\u001B[39m\u001B[38;5;124;03m\"\"\"Generate indices to split data into training and test set.\u001B[39;00m\n\u001B[1;32m   1720\u001B[0m \n\u001B[1;32m   1721\u001B[0m \u001B[38;5;124;03mParameters\u001B[39;00m\n\u001B[0;32m   (...)\u001B[0m\n\u001B[1;32m   1746\u001B[0m \u001B[38;5;124;03mto an integer.\u001B[39;00m\n\u001B[1;32m   1747\u001B[0m \u001B[38;5;124;03m\"\"\"\u001B[39;00m\n\u001B[1;32m   1748\u001B[0m X, y, groups \u001B[38;5;241m=\u001B[39m indexable(X, y, groups)\n\u001B[0;32m-> 1749\u001B[0m \u001B[38;5;28;01mfor\u001B[39;00m train, test \u001B[38;5;129;01min\u001B[39;00m \u001B[38;5;28mself\u001B[39m\u001B[38;5;241m.\u001B[39m_iter_indices(X, y, groups):\n\u001B[1;32m   1750\u001B[0m     \u001B[38;5;28;01myield\u001B[39;00m train, test\n",
      "File \u001B[0;32m~/Simpsons/venv/lib/python3.10/site-packages/sklearn/model_selection/_split.py:2150\u001B[0m, in \u001B[0;36mStratifiedShuffleSplit._iter_indices\u001B[0;34m(self, X, y, groups)\u001B[0m\n\u001B[1;32m   2148\u001B[0m class_counts \u001B[38;5;241m=\u001B[39m np\u001B[38;5;241m.\u001B[39mbincount(y_indices)\n\u001B[1;32m   2149\u001B[0m \u001B[38;5;28;01mif\u001B[39;00m np\u001B[38;5;241m.\u001B[39mmin(class_counts) \u001B[38;5;241m<\u001B[39m \u001B[38;5;241m2\u001B[39m:\n\u001B[0;32m-> 2150\u001B[0m     \u001B[38;5;28;01mraise\u001B[39;00m \u001B[38;5;167;01mValueError\u001B[39;00m(\n\u001B[1;32m   2151\u001B[0m         \u001B[38;5;124m\"\u001B[39m\u001B[38;5;124mThe least populated class in y has only 1\u001B[39m\u001B[38;5;124m\"\u001B[39m\n\u001B[1;32m   2152\u001B[0m         \u001B[38;5;124m\"\u001B[39m\u001B[38;5;124m member, which is too few. The minimum\u001B[39m\u001B[38;5;124m\"\u001B[39m\n\u001B[1;32m   2153\u001B[0m         \u001B[38;5;124m\"\u001B[39m\u001B[38;5;124m number of groups for any class cannot\u001B[39m\u001B[38;5;124m\"\u001B[39m\n\u001B[1;32m   2154\u001B[0m         \u001B[38;5;124m\"\u001B[39m\u001B[38;5;124m be less than 2.\u001B[39m\u001B[38;5;124m\"\u001B[39m\n\u001B[1;32m   2155\u001B[0m     )\n\u001B[1;32m   2157\u001B[0m \u001B[38;5;28;01mif\u001B[39;00m n_train \u001B[38;5;241m<\u001B[39m n_classes:\n\u001B[1;32m   2158\u001B[0m     \u001B[38;5;28;01mraise\u001B[39;00m \u001B[38;5;167;01mValueError\u001B[39;00m(\n\u001B[1;32m   2159\u001B[0m         \u001B[38;5;124m\"\u001B[39m\u001B[38;5;124mThe train_size = \u001B[39m\u001B[38;5;132;01m%d\u001B[39;00m\u001B[38;5;124m should be greater or \u001B[39m\u001B[38;5;124m\"\u001B[39m\n\u001B[1;32m   2160\u001B[0m         \u001B[38;5;124m\"\u001B[39m\u001B[38;5;124mequal to the number of classes = \u001B[39m\u001B[38;5;132;01m%d\u001B[39;00m\u001B[38;5;124m\"\u001B[39m \u001B[38;5;241m%\u001B[39m (n_train, n_classes)\n\u001B[1;32m   2161\u001B[0m     )\n",
      "\u001B[0;31mValueError\u001B[0m: The least populated class in y has only 1 member, which is too few. The minimum number of groups for any class cannot be less than 2."
     ]
    }
   ],
   "source": [
    "\n",
    "\n",
    "from sklearn.model_selection import train_test_split\n",
    "\n",
    "train_val_labels = [path.parent.name for path in train_val_files]\n",
    "train_files, val_files = train_test_split(train_val_files, test_size=0.3, stratify=train_val_labels)\n",
    "val_labels = [path.parent.name for path in val_files]\n",
    "val_files, oos_files = train_test_split(val_files, test_size=0.4, stratify=val_labels)\n",
    "\n"
   ]
  },
  {
   "cell_type": "code",
   "execution_count": null,
   "metadata": {
    "execution": {
     "iopub.execute_input": "2022-04-12T02:32:43.394292Z",
     "iopub.status.busy": "2022-04-12T02:32:43.394043Z",
     "iopub.status.idle": "2022-04-12T02:32:43.492772Z",
     "shell.execute_reply": "2022-04-12T02:32:43.492068Z",
     "shell.execute_reply.started": "2022-04-12T02:32:43.394259Z"
    },
    "trusted": true
   },
   "outputs": [],
   "source": [
    "\n",
    "\n",
    "val_dataset = SimpsonsDataset(val_files, mode='val')\n",
    "train_dataset = SimpsonsDataset(train_files, mode='train')\n",
    "\n"
   ]
  },
  {
   "cell_type": "code",
   "execution_count": null,
   "metadata": {
    "execution": {
     "iopub.execute_input": "2022-04-12T02:32:43.494952Z",
     "iopub.status.busy": "2022-04-12T02:32:43.494684Z",
     "iopub.status.idle": "2022-04-12T02:32:43.500742Z",
     "shell.execute_reply": "2022-04-12T02:32:43.499774Z",
     "shell.execute_reply.started": "2022-04-12T02:32:43.494917Z"
    },
    "trusted": true
   },
   "outputs": [],
   "source": [
    "batch_size = 32\n",
    "train_loader = DataLoader(train_dataset, batch_size=batch_size, shuffle=True)\n",
    "val_loader = DataLoader(val_dataset, batch_size=batch_size, shuffle=False)\n",
    "test_dataset = SimpsonsDataset(test_files, mode=\"test\")\n",
    "test_loader = DataLoader(test_dataset, shuffle=False, batch_size=64)"
   ]
  },
  {
   "cell_type": "code",
   "execution_count": null,
   "metadata": {
    "execution": {
     "iopub.execute_input": "2022-04-12T02:25:40.252130Z",
     "iopub.status.busy": "2022-04-12T02:25:40.251177Z",
     "iopub.status.idle": "2022-04-12T02:25:40.259804Z",
     "shell.execute_reply": "2022-04-12T02:25:40.259047Z",
     "shell.execute_reply.started": "2022-04-12T02:25:40.252089Z"
    },
    "trusted": true
   },
   "outputs": [],
   "source": [
    "# class Classifier(torch.nn.Module):\n",
    "#     def __init__(self, num_classes):\n",
    "#         super(Classifier, self).__init__()\n",
    "#         self.encoder = torchvision.models.resnet18(pretrained=True)\n",
    "#         self.linear_classifier = torch.nn.Linear(self.encoder.fc.out_features, num_classes)\n",
    "\n",
    "#     def forward(self, sample):\n",
    "#         final_feature_map = self.encoder(sample)\n",
    "#         logits = self.linear_classifier(final_feature_map) # argmax(logits) = pred_class\n",
    "#         return logits"
   ]
  },
  {
   "cell_type": "code",
   "execution_count": null,
   "metadata": {
    "execution": {
     "iopub.execute_input": "2022-04-12T02:25:48.789737Z",
     "iopub.status.busy": "2022-04-12T02:25:48.788715Z",
     "iopub.status.idle": "2022-04-12T02:25:49.134754Z",
     "shell.execute_reply": "2022-04-12T02:25:49.133935Z",
     "shell.execute_reply.started": "2022-04-12T02:25:48.789684Z"
    },
    "trusted": true
   },
   "outputs": [],
   "source": [
    "import torch.nn.functional as F\n",
    "\n",
    "\n",
    "class Classifier(torch.nn.Module):\n",
    "\n",
    "    def __init__(self, num_classes: int):\n",
    "        super().__init__()\n",
    "        self.encoder = torchvision.models.mobilenet_v2(pretrained=False).features\n",
    "        self.classifier = torch.nn.Linear(\n",
    "            in_features=1280,  # For mobilenet_v2.\n",
    "            out_features=num_classes,\n",
    "        )\n",
    "\n",
    "    def forward(self, x):\n",
    "        feature_map = self.encoder(x)\n",
    "        pooled_features = F.adaptive_avg_pool2d(feature_map, (1, 1))\n",
    "        flattened_features = torch.flatten(pooled_features, 1)\n",
    "        logits = self.classifier(flattened_features)\n",
    "        return logits\n",
    "\n",
    "\n",
    "classifier = Classifier(num_classes=10)\n",
    "print(classifier(torch.ones((1, 3, 224, 224), dtype=torch.float32)))  # Test output of your neural network."
   ]
  },
  {
   "cell_type": "code",
   "execution_count": null,
   "metadata": {
    "execution": {
     "iopub.execute_input": "2022-04-12T02:25:53.545979Z",
     "iopub.status.busy": "2022-04-12T02:25:53.545688Z",
     "iopub.status.idle": "2022-04-12T02:25:53.748672Z",
     "shell.execute_reply": "2022-04-12T02:25:53.747817Z",
     "shell.execute_reply.started": "2022-04-12T02:25:53.545948Z"
    },
    "trusted": true
   },
   "outputs": [],
   "source": [
    "torchvision.models.resnet18().fc.out_features"
   ]
  },
  {
   "cell_type": "code",
   "execution_count": null,
   "metadata": {
    "execution": {
     "iopub.execute_input": "2022-04-05T10:56:46.515194Z",
     "iopub.status.busy": "2022-04-05T10:56:46.514898Z",
     "iopub.status.idle": "2022-04-05T10:56:46.602544Z",
     "shell.execute_reply": "2022-04-05T10:56:46.60176Z",
     "shell.execute_reply.started": "2022-04-05T10:56:46.515161Z"
    },
    "trusted": true
   },
   "outputs": [],
   "source": [
    "torchvision.models.mobilenet_v2().features"
   ]
  },
  {
   "cell_type": "code",
   "execution_count": null,
   "metadata": {
    "execution": {
     "iopub.execute_input": "2022-04-12T03:05:05.367963Z",
     "iopub.status.busy": "2022-04-12T03:05:05.367694Z",
     "iopub.status.idle": "2022-04-12T03:05:05.384760Z",
     "shell.execute_reply": "2022-04-12T03:05:05.383958Z",
     "shell.execute_reply.started": "2022-04-12T03:05:05.367932Z"
    },
    "trusted": true
   },
   "outputs": [],
   "source": [
    "def fit_epoch(model, train_loader, criterion, optimizer):\n",
    "    running_loss = 0.0\n",
    "    running_corrects = 0\n",
    "    processed_data = 0\n",
    "\n",
    "    for inputs, labels in tqdm(train_loader):\n",
    "        inputs = inputs.to(DEVICE)\n",
    "        labels = labels.to(DEVICE)\n",
    "        optimizer.zero_grad()\n",
    "\n",
    "        outputs = model(inputs)\n",
    "        loss = criterion(outputs, labels)\n",
    "        loss.backward()\n",
    "        optimizer.step()\n",
    "        preds = torch.argmax(outputs, 1)\n",
    "        running_loss += loss.item() * inputs.size(0)\n",
    "        running_corrects += torch.sum(preds == labels.data)\n",
    "        processed_data += inputs.size(0)\n",
    "\n",
    "    train_loss = running_loss / processed_data\n",
    "    train_acc = running_corrects.cpu().numpy() / processed_data\n",
    "    return train_loss, train_acc\n",
    "\n",
    "\n",
    "def eval_epoch(model, val_loader, criterion):\n",
    "    model.eval()\n",
    "    running_loss = 0.0\n",
    "    running_corrects = 0\n",
    "    processed_size = 0\n",
    "\n",
    "    for inputs, labels in tqdm(val_loader):\n",
    "        inputs = inputs.to(DEVICE)\n",
    "        labels = labels.to(DEVICE)\n",
    "\n",
    "        with torch.set_grad_enabled(False):\n",
    "            outputs = model(inputs)\n",
    "            loss = criterion(outputs, labels)\n",
    "            preds = torch.argmax(outputs, 1)\n",
    "\n",
    "        running_loss += loss.item() * inputs.size(0)\n",
    "        running_corrects += torch.sum(preds == labels.data)\n",
    "        processed_size += inputs.size(0)\n",
    "    val_loss = running_loss / processed_size\n",
    "    val_acc = running_corrects.double() / processed_size\n",
    "    return val_loss, val_acc\n",
    "\n",
    "\n",
    "def train(train_files, val_files, model, epochs, batch_size):\n",
    "    train_loader = DataLoader(train_dataset, batch_size=batch_size, shuffle=True)\n",
    "    print('Train data loader \\n')\n",
    "    val_loader = DataLoader(val_dataset, batch_size=batch_size, shuffle=False)\n",
    "    print('val data loader \\n')\n",
    "\n",
    "    history = []\n",
    "    log_template = \"\\nEpoch {ep:03d} train_loss: {t_loss:0.4f} \\\n",
    "    val_loss {v_loss:0.4f} train_acc {t_acc:0.4f} val_acc {v_acc:0.4f}\"\n",
    "\n",
    "    #with tqdm(desc=\"epoch\", total=epochs) as pbar_outer:\n",
    "    #Здесь можно добавить схему изменения learning rate\n",
    "\n",
    "    opt = torch.optim.Adam(model.parameters(), lr=1e-4)\n",
    "    criterion = nn.CrossEntropyLoss()\n",
    "\n",
    "    for epoch in range(epochs):\n",
    "        train_loss, train_acc = fit_epoch(model, train_loader, criterion, opt)\n",
    "        #             print(\"loss\", train_loss)\n",
    "\n",
    "        val_loss, val_acc = eval_epoch(model, val_loader, criterion)\n",
    "        history.append((train_loss, train_acc, val_loss, val_acc))\n",
    "\n",
    "        # pbar_outer.update(1)\n",
    "        # tqdm.write(log_template.format(ep=epoch+1, t_loss=train_loss,\\\n",
    "        #                               v_loss=val_loss, t_acc=train_acc, v_acc=val_acc))\n",
    "        print(\"train loss: \" + str(train_loss) + \" train acc: \" + str(train_acc) + \" val loss: \" + str(\n",
    "            val_loss) + \" val acc: \" + str(val_acc.item()))\n",
    "\n",
    "    return history"
   ]
  },
  {
   "cell_type": "code",
   "execution_count": null,
   "metadata": {
    "execution": {
     "iopub.execute_input": "2022-04-12T03:05:08.520742Z",
     "iopub.status.busy": "2022-04-12T03:05:08.520482Z",
     "iopub.status.idle": "2022-04-12T03:05:08.527206Z",
     "shell.execute_reply": "2022-04-12T03:05:08.526028Z",
     "shell.execute_reply.started": "2022-04-12T03:05:08.520714Z"
    },
    "trusted": true
   },
   "outputs": [],
   "source": [
    "def predict(model, test_loader):\n",
    "    with torch.no_grad():\n",
    "        logits = []\n",
    "\n",
    "        for inputs in test_loader:\n",
    "            inputs = inputs.to(DEVICE)\n",
    "            model.eval()\n",
    "            outputs = model(inputs).cpu()\n",
    "            logits.append(outputs)\n",
    "\n",
    "    probs = nn.functional.softmax(torch.cat(logits), dim=-1).numpy()\n",
    "    return probs"
   ]
  },
  {
   "cell_type": "code",
   "execution_count": null,
   "metadata": {
    "execution": {
     "iopub.execute_input": "2022-04-12T03:05:09.167299Z",
     "iopub.status.busy": "2022-04-12T03:05:09.166721Z",
     "iopub.status.idle": "2022-04-12T03:05:09.280228Z",
     "shell.execute_reply": "2022-04-12T03:05:09.279469Z",
     "shell.execute_reply.started": "2022-04-12T03:05:09.167260Z"
    },
    "trusted": true
   },
   "outputs": [],
   "source": [
    "n_classes = len(np.unique(train_val_labels))\n",
    "model = Classifier(n_classes).to(DEVICE)"
   ]
  },
  {
   "cell_type": "code",
   "execution_count": null,
   "metadata": {
    "execution": {
     "iopub.execute_input": "2022-04-12T03:05:09.741153Z",
     "iopub.status.busy": "2022-04-12T03:05:09.738349Z",
     "iopub.status.idle": "2022-04-12T03:05:09.786582Z",
     "shell.execute_reply": "2022-04-12T03:05:09.785914Z",
     "shell.execute_reply.started": "2022-04-12T03:05:09.741104Z"
    },
    "trusted": true
   },
   "outputs": [],
   "source": [
    "np.unique(train_val_labels)"
   ]
  },
  {
   "cell_type": "code",
   "execution_count": null,
   "metadata": {
    "execution": {
     "iopub.execute_input": "2022-04-06T15:17:32.513029Z",
     "iopub.status.busy": "2022-04-06T15:17:32.512738Z",
     "iopub.status.idle": "2022-04-06T16:39:09.828244Z",
     "shell.execute_reply": "2022-04-06T16:39:09.825699Z",
     "shell.execute_reply.started": "2022-04-06T15:17:32.512999Z"
    },
    "trusted": true
   },
   "outputs": [],
   "source": [
    "\n",
    "history = train(train_dataset, val_dataset, model=model, epochs=15, batch_size=32)"
   ]
  },
  {
   "cell_type": "code",
   "execution_count": null,
   "metadata": {
    "execution": {
     "iopub.execute_input": "2022-04-06T16:39:09.830402Z",
     "iopub.status.busy": "2022-04-06T16:39:09.830122Z",
     "iopub.status.idle": "2022-04-06T16:39:09.877982Z",
     "shell.execute_reply": "2022-04-06T16:39:09.877333Z",
     "shell.execute_reply.started": "2022-04-06T16:39:09.830363Z"
    },
    "trusted": true
   },
   "outputs": [],
   "source": [
    "torch.save(model.state_dict(), \"saved_model.pth\")"
   ]
  },
  {
   "cell_type": "code",
   "execution_count": null,
   "metadata": {
    "execution": {
     "iopub.execute_input": "2022-04-06T16:39:53.786953Z",
     "iopub.status.busy": "2022-04-06T16:39:53.786435Z",
     "iopub.status.idle": "2022-04-06T16:39:53.846928Z",
     "shell.execute_reply": "2022-04-06T16:39:53.846302Z",
     "shell.execute_reply.started": "2022-04-06T16:39:53.786914Z"
    },
    "trusted": true
   },
   "outputs": [],
   "source": [
    "if (\"saved_model.pth\" in os.listdir(\".\")):\n",
    "    model.load_state_dict(torch.load(\"saved_model.pth\"))"
   ]
  },
  {
   "cell_type": "code",
   "execution_count": null,
   "metadata": {
    "execution": {
     "iopub.execute_input": "2022-04-06T16:40:46.482835Z",
     "iopub.status.busy": "2022-04-06T16:40:46.482573Z",
     "iopub.status.idle": "2022-04-06T17:06:30.743383Z",
     "shell.execute_reply": "2022-04-06T17:06:30.742674Z",
     "shell.execute_reply.started": "2022-04-06T16:40:46.482805Z"
    },
    "trusted": true
   },
   "outputs": [],
   "source": [
    "history = train(train_dataset, val_dataset, model=model, epochs=5, batch_size=32)"
   ]
  },
  {
   "cell_type": "code",
   "execution_count": null,
   "metadata": {
    "execution": {
     "iopub.execute_input": "2022-04-12T03:05:14.896677Z",
     "iopub.status.busy": "2022-04-12T03:05:14.896085Z",
     "iopub.status.idle": "2022-04-12T03:05:14.903072Z",
     "shell.execute_reply": "2022-04-12T03:05:14.902180Z",
     "shell.execute_reply.started": "2022-04-12T03:05:14.896635Z"
    },
    "trusted": true
   },
   "outputs": [],
   "source": [
    "class Classifier2(torch.nn.Module):\n",
    "\n",
    "    def __init__(self, num_classes: int):\n",
    "        super().__init__()\n",
    "        self.encoder = torchvision.models.mobilenet_v2(pretrained=True).features\n",
    "        self.classifier = torch.nn.Linear(\n",
    "            in_features=1280,  # For mobilenet_v2.\n",
    "            out_features=num_classes,\n",
    "        )\n",
    "\n",
    "    def forward(self, x):\n",
    "        feature_map = self.encoder(x)\n",
    "        pooled_features = F.adaptive_avg_pool2d(feature_map, (1, 1))\n",
    "        flattened_features = torch.flatten(pooled_features, 1)\n",
    "        logits = self.classifier(flattened_features)\n",
    "        return logits"
   ]
  },
  {
   "cell_type": "code",
   "execution_count": null,
   "metadata": {
    "execution": {
     "iopub.execute_input": "2022-04-12T03:05:15.468222Z",
     "iopub.status.busy": "2022-04-12T03:05:15.467653Z",
     "iopub.status.idle": "2022-04-12T03:05:15.587901Z",
     "shell.execute_reply": "2022-04-12T03:05:15.587167Z",
     "shell.execute_reply.started": "2022-04-12T03:05:15.468184Z"
    },
    "trusted": true
   },
   "outputs": [],
   "source": [
    "model2 = Classifier2(n_classes).to(DEVICE)"
   ]
  },
  {
   "cell_type": "code",
   "execution_count": null,
   "metadata": {
    "execution": {
     "iopub.execute_input": "2022-04-12T03:05:16.214910Z",
     "iopub.status.busy": "2022-04-12T03:05:16.214643Z",
     "iopub.status.idle": "2022-04-12T03:30:54.434739Z",
     "shell.execute_reply": "2022-04-12T03:30:54.434036Z",
     "shell.execute_reply.started": "2022-04-12T03:05:16.214875Z"
    },
    "trusted": true
   },
   "outputs": [],
   "source": [
    "history2 = train(train_dataset, val_dataset, model=model2, epochs=5, batch_size=32)"
   ]
  },
  {
   "cell_type": "code",
   "execution_count": null,
   "metadata": {
    "execution": {
     "iopub.execute_input": "2022-04-12T03:33:14.378376Z",
     "iopub.status.busy": "2022-04-12T03:33:14.377844Z",
     "iopub.status.idle": "2022-04-12T03:33:14.427073Z",
     "shell.execute_reply": "2022-04-12T03:33:14.426380Z",
     "shell.execute_reply.started": "2022-04-12T03:33:14.378339Z"
    },
    "trusted": true
   },
   "outputs": [],
   "source": [
    "torch.save(model.state_dict(), \"saved_model_pretrained.pth\")"
   ]
  }
 ],
 "metadata": {
  "kernelspec": {
   "display_name": "Python 3",
   "language": "python",
   "name": "python3"
  },
  "language_info": {
   "codemirror_mode": {
    "name": "ipython",
    "version": 3
   },
   "file_extension": ".py",
   "mimetype": "text/x-python",
   "name": "python",
   "nbconvert_exporter": "python",
   "pygments_lexer": "ipython3",
   "version": "3.10.10"
  }
 },
 "nbformat": 4,
 "nbformat_minor": 4
}
