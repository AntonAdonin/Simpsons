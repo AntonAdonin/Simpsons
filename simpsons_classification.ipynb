{
 "cells": [
  {
   "cell_type": "markdown",
   "id": "710c87de1b91611e",
   "metadata": {
    "collapsed": false,
    "jupyter": {
     "outputs_hidden": false
    }
   },
   "source": [
    "#### Адонин Антон 22931\n",
    "\n",
    "# Simpsons Classification\n",
    "#### В данной лабораторной работе представлено обучение нейронной сети ResNet50 для распознавания героев мультсериала \"Симпсоны\".\n",
    "##### Сама работа состоит из 2 этапов:\n",
    "##### 1. Работа с данными.\n",
    "    a. Удаление дубликатов.\n",
    "    b. Обогащение тренировочных данных. Аугментация классов с малой репрезентативностью.\n",
    "\n",
    "##### 2. Работа с моделью.\n",
    "    a. Подсчет среднего и стандартного отклонения тренировочной выборки. (Для нормализации).\n",
    "    b. Разбиение тренировочных данных на выборки: тренировочная, валидационная.\n",
    "    c. Создание лоадеров и инициализация модели.\n",
    "    d. Обучение модели.\n",
    "    e. Тестирование модели. Подсчет метрик."
   ]
  },
  {
   "cell_type": "markdown",
   "id": "f47bf09a15ee82f",
   "metadata": {
    "collapsed": false,
    "jupyter": {
     "outputs_hidden": false
    }
   },
   "source": [
    "### Работа с данными"
   ]
  },
  {
   "cell_type": "markdown",
   "id": "434debb88f32b10d",
   "metadata": {
    "collapsed": false,
    "jupyter": {
     "outputs_hidden": false
    }
   },
   "source": [
    "#### Импортируем необходимые модули"
   ]
  },
  {
   "cell_type": "code",
   "execution_count": 1,
   "id": "45d6c93b77b9684b",
   "metadata": {
    "ExecuteTime": {
     "end_time": "2024-05-02T09:54:27.990665Z",
     "start_time": "2024-05-02T09:54:22.801669Z"
    },
    "collapsed": false,
    "jupyter": {
     "outputs_hidden": false
    }
   },
   "outputs": [],
   "source": [
    "import hashlib\n",
    "import math\n",
    "import os\n",
    "from glob import glob\n",
    "from pathlib import Path\n",
    "\n",
    "import matplotlib.pyplot as plt\n",
    "from PIL import Image\n",
    "from torchvision import transforms\n",
    "from tqdm import tqdm\n",
    "import torch"
   ]
  },
  {
   "cell_type": "code",
   "execution_count": 2,
   "id": "50571490f09222aa",
   "metadata": {
    "ExecuteTime": {
     "end_time": "2024-05-02T09:54:28.203664Z",
     "start_time": "2024-05-02T09:54:27.992664Z"
    }
   },
   "outputs": [],
   "source": [
    "from torch.utils.tensorboard import SummaryWriter"
   ]
  },
  {
   "cell_type": "code",
   "execution_count": 3,
   "id": "9296f3b8aee364fd",
   "metadata": {
    "ExecuteTime": {
     "end_time": "2024-05-02T09:54:28.218667Z",
     "start_time": "2024-05-02T09:54:28.205666Z"
    }
   },
   "outputs": [],
   "source": [
    "writer = SummaryWriter(log_dir=\"runs\")"
   ]
  },
  {
   "cell_type": "code",
   "execution_count": 3,
   "id": "21bbc6d97eec010",
   "metadata": {
    "ExecuteTime": {
     "end_time": "2024-05-02T09:54:28.234667Z",
     "start_time": "2024-05-02T09:54:28.222665Z"
    }
   },
   "outputs": [],
   "source": []
  },
  {
   "cell_type": "markdown",
   "id": "72e3452bd210c00a",
   "metadata": {
    "collapsed": false,
    "jupyter": {
     "outputs_hidden": false
    }
   },
   "source": [
    "# 1. Работа с данными."
   ]
  },
  {
   "cell_type": "markdown",
   "id": "2ef5b2c8f2c068e4",
   "metadata": {
    "collapsed": false,
    "jupyter": {
     "outputs_hidden": false
    }
   },
   "source": [
    "Прописываем относительный путь до директорий с данными"
   ]
  },
  {
   "cell_type": "code",
   "execution_count": 4,
   "id": "1f5dc7a76197c1c6",
   "metadata": {
    "ExecuteTime": {
     "end_time": "2024-05-02T09:54:28.249663Z",
     "start_time": "2024-05-02T09:54:28.237669Z"
    },
    "collapsed": false,
    "jupyter": {
     "outputs_hidden": false
    },
    "scrolled": true
   },
   "outputs": [],
   "source": [
    "train_dir = Path('./train_dir/simpsons_dataset/')\n",
    "test_dir = Path('./test_dir/kaggle_simpson_testset/')\n",
    "\n",
    "\n",
    "def list_of_files(directory: str, with_aug=True):\n",
    "    \"\"\"\n",
    "    Returns a list of files in a directory.\n",
    "    :param directory: \n",
    "    :param with_aug: True by default. Returns augmented files which exist in directory if True.\n",
    "    :return: list of file paths\n",
    "    \"\"\"\n",
    "    filename = '*/*.jpg'\n",
    "    if with_aug:\n",
    "        filename = '*/*.*'\n",
    "    files_training = glob(os.path.join(directory, filename))\n",
    "    print('Number of images in Training dir:', len(files_training))\n",
    "    return files_training\n",
    "\n",
    "\n",
    "# list_of_files(train_dir)"
   ]
  },
  {
   "cell_type": "code",
   "execution_count": 5,
   "id": "f68b2273d6f634a7",
   "metadata": {
    "ExecuteTime": {
     "end_time": "2024-05-02T09:54:28.264664Z",
     "start_time": "2024-05-02T09:54:28.251667Z"
    },
    "collapsed": false,
    "jupyter": {
     "outputs_hidden": false
    }
   },
   "outputs": [],
   "source": [
    "# Имена классов\n",
    "CLASS_NAMES = []\n",
    "for i in os.listdir(train_dir):\n",
    "    if not i.startswith('.'):\n",
    "        CLASS_NAMES.append(i)"
   ]
  },
  {
   "cell_type": "code",
   "execution_count": 6,
   "id": "581c2a0555d4094f",
   "metadata": {
    "ExecuteTime": {
     "end_time": "2024-05-02T09:54:28.279662Z",
     "start_time": "2024-05-02T09:54:28.266663Z"
    },
    "collapsed": false,
    "jupyter": {
     "outputs_hidden": false
    }
   },
   "outputs": [],
   "source": [
    "def generate_md5_hash(file_path):\n",
    "    \"\"\"\n",
    "    Returns md5 hash of file by its path.\n",
    "    :param file_path: Path of file.\n",
    "    :return: str, md5 hash of file\n",
    "    \"\"\"\n",
    "    with open(file_path, 'rb') as file:\n",
    "        # Read the file contents\n",
    "        data = file.read()\n",
    "\n",
    "        # Calculate the MD5 hash\n",
    "        md5_hash = hashlib.md5(data).hexdigest()\n",
    "\n",
    "        return md5_hash"
   ]
  },
  {
   "cell_type": "code",
   "execution_count": 7,
   "id": "82b481065634c3fc",
   "metadata": {
    "ExecuteTime": {
     "end_time": "2024-05-02T09:54:28.294664Z",
     "start_time": "2024-05-02T09:54:28.281665Z"
    },
    "collapsed": false,
    "jupyter": {
     "outputs_hidden": false
    }
   },
   "outputs": [],
   "source": [
    "def remove_duplicates_from_dir(directory) -> None:\n",
    "    \"\"\"\n",
    "    Removes duplicates from directory.\n",
    "    :param directory: \n",
    "    :return: None\n",
    "    \"\"\"\n",
    "    hashes = {}\n",
    "    file_paths = glob(os.path.join(directory, '*.jpg'))\n",
    "    for path in file_paths:\n",
    "        hash_image = generate_md5_hash(path)\n",
    "        if hash_image not in hashes:\n",
    "            hashes[hash_image] = []\n",
    "        hashes[hash_image].append(path)\n",
    "    duplicate_counter = 0\n",
    "    for hash, images in hashes.items():\n",
    "        if len(images) > 1:\n",
    "            for image in images[1:]:\n",
    "                os.remove(image)\n",
    "                duplicate_counter += 1\n",
    "    if duplicate_counter > 0:\n",
    "        print(f\"removed {duplicate_counter} duplicate from {dir}\")"
   ]
  },
  {
   "cell_type": "markdown",
   "id": "50649106011ef5dc",
   "metadata": {
    "collapsed": false,
    "jupyter": {
     "outputs_hidden": false
    }
   },
   "source": [
    "Удаляем дубликаты"
   ]
  },
  {
   "cell_type": "code",
   "execution_count": 8,
   "id": "f2820175edb08d30",
   "metadata": {
    "ExecuteTime": {
     "end_time": "2024-05-02T09:54:34.580480Z",
     "start_time": "2024-05-02T09:54:28.297669Z"
    },
    "collapsed": false,
    "jupyter": {
     "outputs_hidden": false
    }
   },
   "outputs": [],
   "source": [
    "# Удаление дубликатов из папок\n",
    "for dir in glob(os.path.join(train_dir, \"*\")):\n",
    "    remove_duplicates_from_dir(dir)\n",
    "for dir in glob(os.path.join(test_dir, \"*\")):\n",
    "    remove_duplicates_from_dir(dir)"
   ]
  },
  {
   "cell_type": "code",
   "execution_count": 9,
   "id": "df8e009018ca0a95",
   "metadata": {
    "ExecuteTime": {
     "end_time": "2024-05-02T09:54:34.595481Z",
     "start_time": "2024-05-02T09:54:34.586482Z"
    },
    "collapsed": false,
    "jupyter": {
     "outputs_hidden": false
    }
   },
   "outputs": [],
   "source": [
    "def items_per_class(directory):\n",
    "    \"\"\"\n",
    "    Returns the number of items in class.\n",
    "    :param directory: parent directory of classes \n",
    "    :return: dict, {class : number_of_items}\n",
    "    \"\"\"\n",
    "    class_quantity = {i: 0 for i in CLASS_NAMES}\n",
    "    for class_name in CLASS_NAMES:\n",
    "        if not class_name.startswith('.'):\n",
    "            class_path = os.path.join(directory, class_name)\n",
    "            num_images = len(glob(os.path.join(class_path, '*.*')))\n",
    "            class_quantity[class_name] += num_images\n",
    "    return class_quantity"
   ]
  },
  {
   "cell_type": "code",
   "execution_count": 10,
   "id": "eb4f7843c67e2933",
   "metadata": {
    "ExecuteTime": {
     "end_time": "2024-05-02T09:54:35.825319Z",
     "start_time": "2024-05-02T09:54:34.597481Z"
    },
    "collapsed": false,
    "jupyter": {
     "outputs_hidden": false
    }
   },
   "outputs": [
    {
     "name": "stdout",
     "output_type": "stream",
     "text": [
      "Total classes: 42\n",
      "Items per class:\n",
      "abraham_grampa_simpson 913\n",
      "agnes_skinner 504\n",
      "apu_nahasapeemapetilon 623\n",
      "barney_gumble 502\n",
      "bart_simpson 1342\n",
      "carl_carlson 503\n",
      "charles_montgomery_burns 1193\n",
      "chief_wiggum 986\n",
      "cletus_spuckler 506\n",
      "comic_book_guy 501\n",
      "disco_stu 512\n",
      "edna_krabappel 501\n",
      "fat_tony 504\n",
      "gil 504\n",
      "groundskeeper_willie 501\n",
      "homer_simpson 2246\n",
      "kent_brockman 501\n",
      "krusty_the_clown 1206\n",
      "lenny_leonard 501\n",
      "lionel_hutz 192\n",
      "lisa_simpson 1354\n",
      "maggie_simpson 503\n",
      "marge_simpson 1291\n",
      "martin_prince 505\n",
      "mayor_quimby 501\n",
      "milhouse_van_houten 1079\n",
      "miss_hoover 502\n",
      "moe_szyslak 1452\n",
      "ned_flanders 1454\n",
      "nelson_muntz 501\n",
      "otto_mann 512\n",
      "patty_bouvier 504\n",
      "principal_skinner 1194\n",
      "professor_john_frink 505\n",
      "rainier_wolfcastle 506\n",
      "ralph_wiggum 504\n",
      "selma_bouvier 503\n",
      "sideshow_bob 877\n",
      "sideshow_mel 508\n",
      "snake_jailbird 505\n",
      "troy_mcclure 512\n",
      "waylon_smithers 502\n"
     ]
    },
    {
     "data": {
      "image/png": "[encoded data removed]",
      "text/plain": [
       "<Figure size 640x480 with 1 Axes>"
      ]
     },
     "metadata": {},
     "output_type": "display_data"
    }
   ],
   "source": [
    "def print_classes_plot(directory):\n",
    "    \"\"\"\n",
    "    Shows plot of the number of items in classes.\n",
    "    :param directory: parent directory of classes.\n",
    "    :return: None\n",
    "    \"\"\"\n",
    "    class_stat = items_per_class(directory)\n",
    "    plt.bar(class_stat.keys(), class_stat.values(), align='center')\n",
    "    plt.xticks(rotation=90)\n",
    "    print(f\"Total classes: {len(class_stat.keys())}\")\n",
    "    print(f\"Items per class:\")\n",
    "    for key, value in class_stat.items():\n",
    "        print(key, value)\n",
    "    plt.show()\n",
    "\n",
    "\n",
    "print_classes_plot(train_dir)"
   ]
  },
  {
   "cell_type": "code",
   "execution_count": 11,
   "id": "c67b3a5d99c500f4",
   "metadata": {
    "ExecuteTime": {
     "end_time": "2024-05-02T09:54:35.840321Z",
     "start_time": "2024-05-02T09:54:35.827322Z"
    },
    "collapsed": false,
    "jupyter": {
     "outputs_hidden": false
    }
   },
   "outputs": [],
   "source": [
    "def get_low_quality_classes(left, right):\n",
    "    \"\"\"\n",
    "    Returns a list of classes which are left <= N <= right. Where N = number of items. \n",
    "    :param left: int\n",
    "    :param right: int\n",
    "    :return: list of classes\n",
    "    \"\"\"\n",
    "    low_quantity_classes = []\n",
    "    class_stat = items_per_class(train_dir)\n",
    "    for key, value in class_stat.items():\n",
    "        if left <= value <= right:\n",
    "            low_quantity_classes.append(key)\n",
    "            print(key, value)\n",
    "\n",
    "    print(f\"Classes with items [{left}:{right}] : {len(low_quantity_classes)}\")\n",
    "    print(low_quantity_classes)\n",
    "    return low_quantity_classes"
   ]
  },
  {
   "cell_type": "code",
   "execution_count": 12,
   "id": "3181da96a573be73",
   "metadata": {
    "ExecuteTime": {
     "end_time": "2024-05-02T09:54:35.855320Z",
     "start_time": "2024-05-02T09:54:35.843321Z"
    },
    "collapsed": false,
    "jupyter": {
     "outputs_hidden": false
    }
   },
   "outputs": [],
   "source": [
    "def remove_augmentations():\n",
    "    \"\"\"\n",
    "    Removes \"basic\" augmentations from train dir\n",
    "    :return: None\n",
    "    \"\"\"\n",
    "    files_augmented = glob(os.path.join(train_dir, '*/aug*.png'))\n",
    "    for file in files_augmented:\n",
    "        os.remove(file)\n",
    "    print(\"All augmentations removed: \", len(files_augmented))\n",
    "\n",
    "\n",
    "def remove_random_augmentations():\n",
    "    \"\"\"\n",
    "    Removes \"random\" augmentations from train dir\n",
    "    :return: None\n",
    "    \"\"\"\n",
    "    files_augmented = glob(os.path.join(train_dir, '*/random*.png'))\n",
    "    for file in files_augmented:\n",
    "        os.remove(file)\n",
    "    print(\"All augmentations removed: \", len(files_augmented))\n",
    "\n",
    "# remove_augmentations()\n",
    "# remove_random_augmentations()"
   ]
  },
  {
   "cell_type": "code",
   "execution_count": 13,
   "id": "fcf25a37fcd7e1",
   "metadata": {
    "ExecuteTime": {
     "end_time": "2024-05-02T09:54:36.149320Z",
     "start_time": "2024-05-02T09:54:35.857319Z"
    },
    "collapsed": false,
    "jupyter": {
     "outputs_hidden": false
    }
   },
   "outputs": [
    {
     "name": "stdout",
     "output_type": "stream",
     "text": [
      "Classes with items [0:30] : 0\n",
      "[]\n"
     ]
    },
    {
     "name": "stderr",
     "output_type": "stream",
     "text": [
      "0it [00:00, ?it/s]\n"
     ]
    },
    {
     "name": "stdout",
     "output_type": "stream",
     "text": [
      "blurred\n"
     ]
    },
    {
     "name": "stderr",
     "output_type": "stream",
     "text": [
      "0it [00:00, ?it/s]"
     ]
    },
    {
     "name": "stdout",
     "output_type": "stream",
     "text": [
      "flipped\n"
     ]
    },
    {
     "name": "stderr",
     "output_type": "stream",
     "text": [
      "\n"
     ]
    }
   ],
   "source": [
    "\n",
    "\n",
    "def apply_basic_aug():\n",
    "    \"\"\"\n",
    "    Применение \"базовой\" аугментации к классу.\n",
    "    (1) размытие по гауссу с ядром (25, 25)\n",
    "    (2) Горизонтальный флип.\n",
    "    \n",
    "    Функция делает из 3 фото 12 штук. Нужна чтобы раздуть классы с очень маленькой численностью.\n",
    "    (1) 3 базовых => 3 базовых + 3 размытых\n",
    "    (2) 3 базовых 3 размытых => 3 базовых 3 размытых + 3 флипнутые базовые 3 флипнутые размытые \n",
    "    \"\"\"\n",
    "    blur_transform = transforms.GaussianBlur(kernel_size=(25, 25), sigma=(0.2, 4.0))\n",
    "    flip_transform = transforms.RandomHorizontalFlip(p=1)\n",
    "\n",
    "    classes = get_low_quality_classes(0, 30)\n",
    "\n",
    "    for class_name in tqdm(classes):\n",
    "        dir_path = os.path.join(train_dir, class_name)\n",
    "        pictures = glob(os.path.join(dir_path, '*'))\n",
    "        pic_number = len(pictures)\n",
    "        for filename in pictures:\n",
    "            image = Image.open(filename)\n",
    "            path = os.path.join(dir_path, f\"aug_pic{pic_number}.png\")\n",
    "            blurred = blur_transform(image)\n",
    "            blurred.save(path)\n",
    "            pic_number += 1\n",
    "    print(f\"blurred\")\n",
    "\n",
    "    for class_name in tqdm(classes):\n",
    "        dir_path = os.path.join(train_dir, class_name)\n",
    "        pictures = glob(os.path.join(dir_path, '*'))\n",
    "        pic_number = len(pictures)\n",
    "        for filename in pictures:\n",
    "            image = Image.open(filename)\n",
    "            path = os.path.join(dir_path, f\"aug_pic{pic_number}.png\")\n",
    "            flipped = flip_transform(image)\n",
    "            flipped.save(path)\n",
    "            pic_number += 1\n",
    "    print(f\"flipped\")\n",
    "\n",
    "\n",
    "apply_basic_aug()"
   ]
  },
  {
   "cell_type": "code",
   "execution_count": 14,
   "id": "fa473af2cd76c127",
   "metadata": {
    "ExecuteTime": {
     "end_time": "2024-05-02T09:54:36.395321Z",
     "start_time": "2024-05-02T09:54:36.151321Z"
    },
    "collapsed": false,
    "jupyter": {
     "outputs_hidden": false
    }
   },
   "outputs": [
    {
     "name": "stdout",
     "output_type": "stream",
     "text": [
      "lionel_hutz 192\n",
      "Classes with items [0:500] : 1\n",
      "['lionel_hutz']\n"
     ]
    }
   ],
   "source": [
    "# Применяем автоматическую аугментацию\n",
    "classes = get_low_quality_classes(0, 500)\n",
    "if len(classes) == 1:\n",
    "    classes = []\n",
    "for class_name in classes:\n",
    "    dir_path = os.path.join(train_dir, class_name)\n",
    "    pictures = glob(os.path.join(dir_path, '*'))\n",
    "    pic_number = len(pictures)\n",
    "    aug_per_pic = math.ceil((500 - pic_number) / pic_number)\n",
    "    random_augment_transform = transforms.Compose([transforms.PILToTensor(),\n",
    "                                                   transforms.RandAugment(num_ops=aug_per_pic + 2),\n",
    "                                                   transforms.ToPILImage()])\n",
    "    # Максимально возможное количество операций аугментации для каждого класса - 15 на каждую картинку\n",
    "    if aug_per_pic > 15:\n",
    "        aug_per_pic = 15\n",
    "    rand = transforms.RandAugment(num_ops=aug_per_pic + 2)\n",
    "    for filename in tqdm(pictures):\n",
    "        image = Image.open(filename)\n",
    "        for i in range(aug_per_pic):\n",
    "            path = os.path.join(dir_path, f\"random_aug_pic{pic_number}.png\")\n",
    "            augmented = rand(image)\n",
    "            augmented.save(path)\n",
    "            pic_number += 1\n",
    "        if pic_number > 500:\n",
    "            break"
   ]
  },
  {
   "cell_type": "code",
   "execution_count": 15,
   "id": "750635bf6b7a2c92",
   "metadata": {
    "ExecuteTime": {
     "end_time": "2024-05-02T09:54:37.197301Z",
     "start_time": "2024-05-02T09:54:36.397320Z"
    },
    "collapsed": false,
    "jupyter": {
     "outputs_hidden": false
    }
   },
   "outputs": [
    {
     "name": "stdout",
     "output_type": "stream",
     "text": [
      "Total classes: 42\n",
      "Items per class:\n",
      "abraham_grampa_simpson 913\n",
      "agnes_skinner 504\n",
      "apu_nahasapeemapetilon 623\n",
      "barney_gumble 502\n",
      "bart_simpson 1342\n",
      "carl_carlson 503\n",
      "charles_montgomery_burns 1193\n",
      "chief_wiggum 986\n",
      "cletus_spuckler 506\n",
      "comic_book_guy 501\n",
      "disco_stu 512\n",
      "edna_krabappel 501\n",
      "fat_tony 504\n",
      "gil 504\n",
      "groundskeeper_willie 501\n",
      "homer_simpson 2246\n",
      "kent_brockman 501\n",
      "krusty_the_clown 1206\n",
      "lenny_leonard 501\n",
      "lionel_hutz 192\n",
      "lisa_simpson 1354\n",
      "maggie_simpson 503\n",
      "marge_simpson 1291\n",
      "martin_prince 505\n",
      "mayor_quimby 501\n",
      "milhouse_van_houten 1079\n",
      "miss_hoover 502\n",
      "moe_szyslak 1452\n",
      "ned_flanders 1454\n",
      "nelson_muntz 501\n",
      "otto_mann 512\n",
      "patty_bouvier 504\n",
      "principal_skinner 1194\n",
      "professor_john_frink 505\n",
      "rainier_wolfcastle 506\n",
      "ralph_wiggum 504\n",
      "selma_bouvier 503\n",
      "sideshow_bob 877\n",
      "sideshow_mel 508\n",
      "snake_jailbird 505\n",
      "troy_mcclure 512\n",
      "waylon_smithers 502\n"
     ]
    },
    {
     "data": {
      "image/png": "[encoded data removed]",
      "text/plain": [
       "<Figure size 640x480 with 1 Axes>"
      ]
     },
     "metadata": {},
     "output_type": "display_data"
    }
   ],
   "source": [
    "print_classes_plot(train_dir)"
   ]
  },
  {
   "cell_type": "markdown",
   "id": "b0daf146ad00f1df",
   "metadata": {
    "collapsed": false,
    "jupyter": {
     "outputs_hidden": false
    }
   },
   "source": [
    "# 2. Работа с моделью."
   ]
  },
  {
   "cell_type": "markdown",
   "id": "e03b32469a6adc00",
   "metadata": {
    "collapsed": false,
    "jupyter": {
     "outputs_hidden": false
    }
   },
   "source": [
    "#### Импортируем необходимые библиотеки"
   ]
  },
  {
   "cell_type": "code",
   "execution_count": 16,
   "id": "4af6c3388a496e2b",
   "metadata": {
    "ExecuteTime": {
     "end_time": "2024-05-02T09:54:37.213301Z",
     "start_time": "2024-05-02T09:54:37.199300Z"
    },
    "collapsed": false,
    "jupyter": {
     "outputs_hidden": false
    }
   },
   "outputs": [],
   "source": [
    "import numpy as np\n",
    "import torch\n",
    "import torchvision\n",
    "import torchvision.datasets as datasets"
   ]
  },
  {
   "cell_type": "code",
   "execution_count": 17,
   "id": "1d11a674649a868a",
   "metadata": {
    "ExecuteTime": {
     "end_time": "2024-05-02T09:54:37.259766Z",
     "start_time": "2024-05-02T09:54:37.215511Z"
    },
    "collapsed": false,
    "jupyter": {
     "outputs_hidden": false
    }
   },
   "outputs": [],
   "source": [
    "num_epochs = 300\n",
    "learning_rate = 0.001\n",
    "batch_size = 16\n",
    "device = \"mps\" if torch.backends.mps.is_available() else \"cuda\" if torch.cuda.is_available() else \"cpu\""
   ]
  },
  {
   "cell_type": "code",
   "execution_count": 18,
   "id": "f2b8b8dc29323f0",
   "metadata": {
    "ExecuteTime": {
     "end_time": "2024-05-02T09:54:37.476731Z",
     "start_time": "2024-05-02T09:54:37.261768Z"
    },
    "collapsed": false,
    "jupyter": {
     "outputs_hidden": false
    }
   },
   "outputs": [],
   "source": [
    "images_dataset = datasets.ImageFolder(root=train_dir, transform=transforms.Compose([transforms.Resize((256, 256)),\n",
    "                                                                                    transforms.CenterCrop(224), transforms.ToTensor()]))\n",
    "images_dataset.idx_to_class = {v: k for k, v in images_dataset.class_to_idx.items()}"
   ]
  },
  {
   "cell_type": "code",
   "execution_count": 19,
   "id": "6a36d1e7b35e3f4e",
   "metadata": {
    "ExecuteTime": {
     "end_time": "2024-05-02T09:54:38.579727Z",
     "start_time": "2024-05-02T09:54:37.478731Z"
    },
    "collapsed": false,
    "jupyter": {
     "outputs_hidden": false
    }
   },
   "outputs": [],
   "source": [
    "from torch.utils.data import SubsetRandomSampler\n",
    "from sklearn.model_selection import train_test_split\n",
    "\n",
    "\n",
    "def get_loaders(dataset, train_size=0.9):\n",
    "    \"\"\"\n",
    "    Splits train dataset to train and validation samples.\n",
    "    Returns loaders.\n",
    "    :param dataset: \n",
    "    :param train_size: The size of the training sample relative to the source data\n",
    "    :return: (train_loader, validation_loader) - tuple\n",
    "    \"\"\"\n",
    "    length = len(dataset)\n",
    "    indices = list(range(length))\n",
    "    train_ind, val_ind = train_test_split(indices, train_size=train_size, stratify=dataset.targets, shuffle=True, random_state=42)\n",
    "    train_sampler = SubsetRandomSampler(train_ind)\n",
    "    valid_sampler = SubsetRandomSampler(val_ind)\n",
    "\n",
    "    train_loader = torch.utils.data.DataLoader(dataset, batch_size=batch_size,\n",
    "                                               sampler=train_sampler)\n",
    "    validation_loader = torch.utils.data.DataLoader(dataset, batch_size=batch_size,\n",
    "                                                    sampler=valid_sampler)\n",
    "    return train_loader, validation_loader\n"
   ]
  },
  {
   "cell_type": "code",
   "execution_count": 20,
   "id": "50623df589dfa1db",
   "metadata": {
    "ExecuteTime": {
     "end_time": "2024-05-02T09:54:38.611726Z",
     "start_time": "2024-05-02T09:54:38.582726Z"
    },
    "collapsed": false,
    "jupyter": {
     "outputs_hidden": false
    }
   },
   "outputs": [],
   "source": [
    "train_loader, validation_loader = get_loaders(images_dataset)"
   ]
  },
  {
   "cell_type": "markdown",
   "id": "bde14152ca12210",
   "metadata": {
    "collapsed": false,
    "jupyter": {
     "outputs_hidden": false
    }
   },
   "source": [
    "#### Подсчет среднего и стандартного отклонения тренировочной выборки."
   ]
  },
  {
   "cell_type": "code",
   "execution_count": 21,
   "id": "7a1d7b90e8608a4d",
   "metadata": {
    "ExecuteTime": {
     "end_time": "2024-05-02T09:54:38.626725Z",
     "start_time": "2024-05-02T09:54:38.613728Z"
    },
    "collapsed": false,
    "jupyter": {
     "outputs_hidden": false
    }
   },
   "outputs": [],
   "source": [
    "def calculate_mean_std(loader):\n",
    "    \"\"\"\n",
    "    Calculate the mean and std of the images\n",
    "    :param indices: train indices of dataset images\n",
    "    :return: (mean, std) - tuple\n",
    "    \"\"\"\n",
    "    print('==> Computing mean and std..')\n",
    "\n",
    "    total_sum = torch.tensor([0.0, 0.0, 0.0])\n",
    "    total_sum_square = torch.tensor([0.0, 0.0, 0.0])\n",
    "\n",
    "    for inputs, labels in tqdm(loader):\n",
    "        total_sum += inputs.sum(axis=[0, 2, 3])\n",
    "        total_sum_square += (inputs ** 2).sum(axis=[0, 2, 3])\n",
    "\n",
    "    # len(df) = Number of images in dataset (df)\n",
    "    image_size = 224\n",
    "    count = len(loader) * loader.batch_size * image_size * image_size\n",
    "\n",
    "    # mean and std\n",
    "    total_mean = total_sum / count\n",
    "    total_var = (total_sum_square / count) - (total_mean ** 2)\n",
    "    total_std = torch.sqrt(total_var)\n",
    "    # output\n",
    "    print(f'mean: {total_mean}')\n",
    "    print(f'std:  {total_std}')\n",
    "    return total_mean, total_std"
   ]
  },
  {
   "cell_type": "code",
   "execution_count": 22,
   "id": "f0d4a3a74a2abdbf",
   "metadata": {
    "ExecuteTime": {
     "end_time": "2024-05-02T09:54:38.641724Z",
     "start_time": "2024-05-02T09:54:38.628729Z"
    }
   },
   "outputs": [],
   "source": [
    "# dataset_mean, dataset_std = calculate_mean_std(train_loader)\n",
    "dataset_mean = torch.tensor([0.4492, 0.4071, 0.3481])\n",
    "dataset_std = torch.tensor([0.2709, 0.2514, 0.2729])"
   ]
  },
  {
   "cell_type": "code",
   "execution_count": 23,
   "id": "31330510f1d6a840",
   "metadata": {
    "ExecuteTime": {
     "end_time": "2024-05-02T09:54:38.656726Z",
     "start_time": "2024-05-02T09:54:38.644725Z"
    }
   },
   "outputs": [
    {
     "data": {
      "text/plain": [
       "Compose(\n",
       "    Resize(size=(256, 256), interpolation=bilinear, max_size=None, antialias=True)\n",
       "    CenterCrop(size=(224, 224))\n",
       "    ToTensor()\n",
       "    Normalize(mean=tensor([0.4492, 0.4071, 0.3481]), std=tensor([0.2709, 0.2514, 0.2729]))\n",
       ")"
      ]
     },
     "execution_count": 23,
     "metadata": {},
     "output_type": "execute_result"
    }
   ],
   "source": [
    "# Добавляем нормализацию к трансформации датасета\n",
    "dataset_transform = transforms.Compose([transforms.Resize((256, 256)),\n",
    "                                        transforms.CenterCrop(224), transforms.ToTensor(),\n",
    "                                        transforms.Normalize(mean=dataset_mean, std=dataset_std)])\n",
    "images_dataset.transform = dataset_transform\n",
    "images_dataset.transform"
   ]
  },
  {
   "cell_type": "code",
   "execution_count": 24,
   "id": "5b21301075367b37",
   "metadata": {
    "ExecuteTime": {
     "end_time": "2024-05-02T09:54:38.687725Z",
     "start_time": "2024-05-02T09:54:38.658725Z"
    }
   },
   "outputs": [
    {
     "data": {
      "text/plain": [
       "{0: 'abraham_grampa_simpson',\n",
       " 1: 'apu_nahasapeemapetilon',\n",
       " 2: 'bart_simpson',\n",
       " 3: 'charles_montgomery_burns',\n",
       " 4: 'chief_wiggum',\n",
       " 5: 'comic_book_guy',\n",
       " 6: 'edna_krabappel',\n",
       " 7: 'homer_simpson',\n",
       " 8: 'kent_brockman',\n",
       " 9: 'krusty_the_clown',\n",
       " 10: 'lenny_leonard',\n",
       " 11: 'lisa_simpson',\n",
       " 12: 'marge_simpson',\n",
       " 13: 'mayor_quimby',\n",
       " 14: 'milhouse_van_houten',\n",
       " 15: 'moe_szyslak',\n",
       " 16: 'ned_flanders',\n",
       " 17: 'nelson_muntz',\n",
       " 18: 'principal_skinner',\n",
       " 19: 'sideshow_bob'}"
      ]
     },
     "execution_count": 24,
     "metadata": {},
     "output_type": "execute_result"
    }
   ],
   "source": [
    "test_dataset = datasets.ImageFolder(\n",
    "    root=test_dir, transform=dataset_transform\n",
    ")\n",
    "test_dataset.idx_to_class = {v: k for k, v in test_dataset.class_to_idx.items()}\n",
    "test_dataset.idx_to_class"
   ]
  },
  {
   "cell_type": "code",
   "execution_count": 25,
   "id": "8592de85b12c905a",
   "metadata": {
    "ExecuteTime": {
     "end_time": "2024-05-02T09:54:38.703727Z",
     "start_time": "2024-05-02T09:54:38.689724Z"
    },
    "collapsed": false,
    "jupyter": {
     "outputs_hidden": false
    }
   },
   "outputs": [],
   "source": [
    "test_loader = torch.utils.data.DataLoader(test_dataset, batch_size=batch_size,\n",
    "                                          shuffle=False)"
   ]
  },
  {
   "cell_type": "markdown",
   "id": "18c9203dae1da44",
   "metadata": {},
   "source": [
    "#### Инициализируем модель"
   ]
  },
  {
   "cell_type": "code",
   "execution_count": 26,
   "id": "677cce5b0ae5bf16",
   "metadata": {
    "ExecuteTime": {
     "end_time": "2024-05-02T09:54:39.932370Z",
     "start_time": "2024-05-02T09:54:38.705726Z"
    }
   },
   "outputs": [],
   "source": [
    "model = torchvision.models.resnet50(weights=None)\n",
    "model_filename = \"tb_model.pth\"\n",
    "if model_filename in os.listdir():\n",
    "    model.load_state_dict(torch.load(model_filename, map_location=torch.device(device)))"
   ]
  },
  {
   "cell_type": "code",
   "execution_count": 27,
   "id": "3e2cb06efa63dfe",
   "metadata": {
    "ExecuteTime": {
     "end_time": "2024-05-02T09:54:52.068936Z",
     "start_time": "2024-05-02T09:54:39.944368Z"
    }
   },
   "outputs": [],
   "source": [
    "inputs, classes = next(iter(train_loader))\n",
    "writer.add_graph(model, inputs)"
   ]
  },
  {
   "cell_type": "code",
   "execution_count": 28,
   "id": "d8fe779c6b18786f",
   "metadata": {
    "ExecuteTime": {
     "end_time": "2024-05-02T09:54:52.222939Z",
     "start_time": "2024-05-02T09:54:52.070939Z"
    }
   },
   "outputs": [],
   "source": [
    "model = model.to(device)"
   ]
  },
  {
   "cell_type": "code",
   "execution_count": 29,
   "id": "ddca74fa2d8f8c64",
   "metadata": {
    "ExecuteTime": {
     "end_time": "2024-05-02T09:54:52.238486Z",
     "start_time": "2024-05-02T09:54:52.224942Z"
    }
   },
   "outputs": [],
   "source": [
    "writer.close()"
   ]
  },
  {
   "cell_type": "code",
   "execution_count": 30,
   "id": "4cf2482fe9b2f288",
   "metadata": {
    "ExecuteTime": {
     "end_time": "2024-05-02T09:54:52.253531Z",
     "start_time": "2024-05-02T09:54:52.240485Z"
    }
   },
   "outputs": [],
   "source": [
    "# минимальная потеря на валидации\n",
    "min_valid_loss = np.inf\n",
    "\n",
    "# Определяем функцию потери\n",
    "criterion = torch.nn.CrossEntropyLoss()\n",
    "\n",
    "# Определяем оптимайзер\n",
    "optimizer = torch.optim.SGD(model.parameters(), lr=learning_rate, momentum=0.9)"
   ]
  },
  {
   "cell_type": "markdown",
   "id": "25da505a78c975ed",
   "metadata": {},
   "source": [
    "#### Обучение модели"
   ]
  },
  {
   "cell_type": "code",
   "execution_count": 31,
   "id": "27653f02126f5e4b",
   "metadata": {
    "ExecuteTime": {
     "end_time": "2024-05-02T09:54:52.269500Z",
     "start_time": "2024-05-02T09:54:52.256499Z"
    }
   },
   "outputs": [],
   "source": [
    "from sklearn.metrics import precision_score, recall_score, f1_score, accuracy_score\n",
    "def train():\n",
    "    # Train the model...\n",
    "    global min_valid_loss\n",
    "    for epoch in range(num_epochs):\n",
    "        print(f\"Running {epoch + 1} epoch\")\n",
    "        train_loss = 0.0\n",
    "        model.train()\n",
    "        y_pred = []\n",
    "        y_true = []\n",
    "        for inputs, labels in tqdm(train_loader, mininterval=1):\n",
    "            inputs = inputs.to(device)\n",
    "            labels = labels.to(device)\n",
    "            optimizer.zero_grad()\n",
    "            outputs = model(inputs)\n",
    "            loss = criterion(outputs, labels)\n",
    "            train_loss += loss.item() * inputs.size(0)\n",
    "            loss.backward()\n",
    "            optimizer.step()\n",
    "            _, predicted = torch.max(outputs.data, 1)\n",
    "            y_true.extend(labels.cpu().numpy())\n",
    "            y_pred.extend(predicted.cpu().numpy())\n",
    "            \n",
    "        accuracy = accuracy_score(y_true=y_true, y_pred=y_pred)\n",
    "        precision = precision_score(y_true=y_true, y_pred=y_pred, average=\"macro\")\n",
    "        recall = recall_score(y_true=y_true, y_pred=y_pred, average=\"macro\")\n",
    "        f1 = f1_score(y_true=y_true, y_pred=y_pred, average=\"macro\")\n",
    "        writer.add_scalar(\"train loss\", train_loss / len(train_loader), epoch + 1)\n",
    "        writer.add_scalar(\"train accuracy\", accuracy, epoch + 1)\n",
    "        writer.add_scalar(\"train precision\", precision, epoch + 1)\n",
    "        writer.add_scalar(\"train recall\", recall, epoch + 1)\n",
    "        writer.add_scalar(\"train f1\", f1, epoch + 1)\n",
    "        valid_loss = 0.0\n",
    "        y_pred = []\n",
    "        y_true = []\n",
    "        model.eval()\n",
    "        for inputs, labels in tqdm(validation_loader, mininterval=1):\n",
    "            inputs = inputs.to(device)\n",
    "            labels = labels.to(device)\n",
    "            outputs = model(inputs)\n",
    "            loss = criterion(outputs, labels)\n",
    "            valid_loss += loss.item() * inputs.size(0)\n",
    "            _, predicted = torch.max(outputs.data, 1)\n",
    "            y_true.extend(labels.cpu().numpy())\n",
    "            y_pred.extend(predicted.cpu().numpy())\n",
    "        accuracy = accuracy_score(y_true=y_true, y_pred=y_pred)\n",
    "        precision = precision_score(y_true=y_true, y_pred=y_pred, average=\"macro\")\n",
    "        recall = recall_score(y_true=y_true, y_pred=y_pred, average=\"macro\")\n",
    "        f1 = f1_score(y_true=y_true, y_pred=y_pred, average=\"macro\")\n",
    "        writer.add_scalar(\"validation loss\", valid_loss / len(validation_loader), epoch + 1)\n",
    "        writer.add_scalar(\"validation accuracy\", accuracy, epoch + 1)\n",
    "        writer.add_scalar(\"validation precision\", precision, epoch + 1)\n",
    "        writer.add_scalar(\"validation recall\", recall, epoch + 1)\n",
    "        writer.add_scalar(\"validation f1\", f1, epoch + 1)\n",
    "        print(\n",
    "            f'Epoch {epoch + 1} \\t\\t Training Loss: {train_loss / len(train_loader)} \\t\\t Validation Loss: {valid_loss / len(validation_loader)}')\n",
    "        if min_valid_loss > valid_loss:\n",
    "            print(f'Validation Loss Decreased({min_valid_loss:.6f}--->{valid_loss:.6f}) \\t Saving The Model')\n",
    "            min_valid_loss = valid_loss\n",
    "            torch.save(model.state_dict(), model_filename)"
   ]
  },
  {
   "cell_type": "code",
   "execution_count": 32,
   "id": "f35c4dbcf1e4a9ea",
   "metadata": {
    "ExecuteTime": {
     "end_time": "2024-05-02T13:20:47.467668Z",
     "start_time": "2024-05-02T09:54:52.271502Z"
    }
   },
   "outputs": [
    {
     "name": "stdout",
     "output_type": "stream",
     "text": [
      "Running 1 epoch\n"
     ]
    },
    {
     "name": "stderr",
     "output_type": "stream",
     "text": [
      "100%|██████████| 1745/1745 [10:06<00:00,  2.88it/s]\n",
      "C:\\Users\\79137\\PycharmProjects\\Simpsons\\venv\\lib\\site-packages\\sklearn\\metrics\\_classification.py:1509: UndefinedMetricWarning: Recall is ill-defined and being set to 0.0 in labels with no true samples. Use `zero_division` parameter to control this behavior.\n",
      "  _warn_prf(average, modifier, f\"{metric.capitalize()} is\", len(result))\n",
      "100%|██████████| 194/194 [00:47<00:00,  4.11it/s]\n",
      "C:\\Users\\79137\\PycharmProjects\\Simpsons\\venv\\lib\\site-packages\\sklearn\\metrics\\_classification.py:1509: UndefinedMetricWarning: Precision is ill-defined and being set to 0.0 in labels with no predicted samples. Use `zero_division` parameter to control this behavior.\n",
      "  _warn_prf(average, modifier, f\"{metric.capitalize()} is\", len(result))\n"
     ]
    },
    {
     "name": "stdout",
     "output_type": "stream",
     "text": [
      "Epoch 1 \t\t Training Loss: 53.98189522188509 \t\t Validation Loss: 40.91976902411156\n",
      "Validation Loss Decreased(inf--->7938.435191) \t Saving The Model\n",
      "Running 2 epoch\n"
     ]
    },
    {
     "name": "stderr",
     "output_type": "stream",
     "text": [
      "100%|██████████| 1745/1745 [14:21<00:00,  2.03it/s]\n",
      "100%|██████████| 194/194 [00:39<00:00,  4.96it/s]\n",
      "C:\\Users\\79137\\PycharmProjects\\Simpsons\\venv\\lib\\site-packages\\sklearn\\metrics\\_classification.py:1509: UndefinedMetricWarning: Precision is ill-defined and being set to 0.0 in labels with no predicted samples. Use `zero_division` parameter to control this behavior.\n",
      "  _warn_prf(average, modifier, f\"{metric.capitalize()} is\", len(result))\n"
     ]
    },
    {
     "name": "stdout",
     "output_type": "stream",
     "text": [
      "Epoch 2 \t\t Training Loss: 34.98105706717701 \t\t Validation Loss: 28.9441643547766\n",
      "Validation Loss Decreased(7938.435191--->5615.167885) \t Saving The Model\n",
      "Running 3 epoch\n"
     ]
    },
    {
     "name": "stderr",
     "output_type": "stream",
     "text": [
      "100%|██████████| 1745/1745 [13:40<00:00,  2.13it/s]\n",
      "100%|██████████| 194/194 [00:38<00:00,  5.00it/s]\n"
     ]
    },
    {
     "name": "stdout",
     "output_type": "stream",
     "text": [
      "Epoch 3 \t\t Training Loss: 25.19293747344468 \t\t Validation Loss: 22.642055626997013\n",
      "Validation Loss Decreased(5615.167885--->4392.558792) \t Saving The Model\n",
      "Running 4 epoch\n"
     ]
    },
    {
     "name": "stderr",
     "output_type": "stream",
     "text": [
      "100%|██████████| 1745/1745 [13:46<00:00,  2.11it/s]\n",
      "100%|██████████| 194/194 [00:39<00:00,  4.97it/s]\n"
     ]
    },
    {
     "name": "stdout",
     "output_type": "stream",
     "text": [
      "Epoch 4 \t\t Training Loss: 19.84134632311441 \t\t Validation Loss: 19.02942914077916\n",
      "Validation Loss Decreased(4392.558792--->3691.709253) \t Saving The Model\n",
      "Running 5 epoch\n"
     ]
    },
    {
     "name": "stderr",
     "output_type": "stream",
     "text": [
      "100%|██████████| 1745/1745 [13:29<00:00,  2.16it/s]\n",
      "100%|██████████| 194/194 [00:38<00:00,  5.08it/s]\n"
     ]
    },
    {
     "name": "stdout",
     "output_type": "stream",
     "text": [
      "Epoch 5 \t\t Training Loss: 16.264416205780552 \t\t Validation Loss: 15.287406019636036\n",
      "Validation Loss Decreased(3691.709253--->2965.756768) \t Saving The Model\n",
      "Running 6 epoch\n"
     ]
    },
    {
     "name": "stderr",
     "output_type": "stream",
     "text": [
      "100%|██████████| 1745/1745 [13:41<00:00,  2.12it/s]\n",
      "100%|██████████| 194/194 [00:38<00:00,  5.01it/s]\n"
     ]
    },
    {
     "name": "stdout",
     "output_type": "stream",
     "text": [
      "Epoch 6 \t\t Training Loss: 13.421113185469263 \t\t Validation Loss: 13.734526781691718\n",
      "Validation Loss Decreased(2965.756768--->2664.498196) \t Saving The Model\n",
      "Running 7 epoch\n"
     ]
    },
    {
     "name": "stderr",
     "output_type": "stream",
     "text": [
      "100%|██████████| 1745/1745 [13:35<00:00,  2.14it/s]\n",
      "100%|██████████| 194/194 [00:38<00:00,  4.99it/s]\n"
     ]
    },
    {
     "name": "stdout",
     "output_type": "stream",
     "text": [
      "Epoch 7 \t\t Training Loss: 11.359131608924756 \t\t Validation Loss: 13.812604658382455\n",
      "Running 8 epoch\n"
     ]
    },
    {
     "name": "stderr",
     "output_type": "stream",
     "text": [
      "100%|██████████| 1745/1745 [13:33<00:00,  2.15it/s]\n",
      "100%|██████████| 194/194 [00:42<00:00,  4.52it/s]\n"
     ]
    },
    {
     "name": "stdout",
     "output_type": "stream",
     "text": [
      "Epoch 8 \t\t Training Loss: 9.603809219052252 \t\t Validation Loss: 12.334684939114089\n",
      "Validation Loss Decreased(2664.498196--->2392.928878) \t Saving The Model\n",
      "Running 9 epoch\n"
     ]
    },
    {
     "name": "stderr",
     "output_type": "stream",
     "text": [
      "100%|██████████| 1745/1745 [13:33<00:00,  2.15it/s]\n",
      "100%|██████████| 194/194 [00:38<00:00,  5.01it/s]\n"
     ]
    },
    {
     "name": "stdout",
     "output_type": "stream",
     "text": [
      "Epoch 9 \t\t Training Loss: 7.9281339771084935 \t\t Validation Loss: 13.473326059653587\n",
      "Running 10 epoch\n"
     ]
    },
    {
     "name": "stderr",
     "output_type": "stream",
     "text": [
      "100%|██████████| 1745/1745 [13:49<00:00,  2.10it/s]\n",
      "100%|██████████| 194/194 [00:39<00:00,  4.92it/s]\n"
     ]
    },
    {
     "name": "stdout",
     "output_type": "stream",
     "text": [
      "Epoch 10 \t\t Training Loss: 6.779244018386633 \t\t Validation Loss: 12.039113087445191\n",
      "Validation Loss Decreased(2392.928878--->2335.587939) \t Saving The Model\n",
      "Running 11 epoch\n"
     ]
    },
    {
     "name": "stderr",
     "output_type": "stream",
     "text": [
      "100%|██████████| 1745/1745 [13:36<00:00,  2.14it/s]\n",
      "100%|██████████| 194/194 [00:41<00:00,  4.73it/s]\n"
     ]
    },
    {
     "name": "stdout",
     "output_type": "stream",
     "text": [
      "Epoch 11 \t\t Training Loss: 5.551188356136866 \t\t Validation Loss: 10.751663455874034\n",
      "Validation Loss Decreased(2335.587939--->2085.822710) \t Saving The Model\n",
      "Running 12 epoch\n"
     ]
    },
    {
     "name": "stderr",
     "output_type": "stream",
     "text": [
      "100%|██████████| 1745/1745 [13:53<00:00,  2.09it/s]\n",
      "100%|██████████| 194/194 [00:43<00:00,  4.46it/s]\n"
     ]
    },
    {
     "name": "stdout",
     "output_type": "stream",
     "text": [
      "Epoch 12 \t\t Training Loss: 4.506889315820526 \t\t Validation Loss: 10.605573783599839\n",
      "Validation Loss Decreased(2085.822710--->2057.481314) \t Saving The Model\n",
      "Running 13 epoch\n"
     ]
    },
    {
     "name": "stderr",
     "output_type": "stream",
     "text": [
      "100%|██████████| 1745/1745 [14:46<00:00,  1.97it/s]\n",
      "100%|██████████| 194/194 [00:37<00:00,  5.16it/s]\n"
     ]
    },
    {
     "name": "stdout",
     "output_type": "stream",
     "text": [
      "Epoch 13 \t\t Training Loss: 3.8461368016802564 \t\t Validation Loss: 11.28365582335241\n",
      "Running 14 epoch\n"
     ]
    },
    {
     "name": "stderr",
     "output_type": "stream",
     "text": [
      "100%|██████████| 1745/1745 [13:42<00:00,  2.12it/s]\n",
      "100%|██████████| 194/194 [00:38<00:00,  4.98it/s]\n"
     ]
    },
    {
     "name": "stdout",
     "output_type": "stream",
     "text": [
      "Epoch 14 \t\t Training Loss: 2.7865299741548077 \t\t Validation Loss: 10.696727493681859\n",
      "Running 15 epoch\n"
     ]
    },
    {
     "name": "stderr",
     "output_type": "stream",
     "text": [
      " 49%|████▉     | 852/1745 [06:49<07:09,  2.08it/s]\n"
     ]
    },
    {
     "ename": "KeyboardInterrupt",
     "evalue": "",
     "output_type": "error",
     "traceback": [
      "\u001b[1;31m---------------------------------------------------------------------------\u001b[0m",
      "\u001b[1;31mKeyboardInterrupt\u001b[0m                         Traceback (most recent call last)",
      "Cell \u001b[1;32mIn[32], line 1\u001b[0m\n\u001b[1;32m----> 1\u001b[0m \u001b[43mtrain\u001b[49m\u001b[43m(\u001b[49m\u001b[43m)\u001b[49m\n",
      "Cell \u001b[1;32mIn[31], line 11\u001b[0m, in \u001b[0;36mtrain\u001b[1;34m()\u001b[0m\n\u001b[0;32m      9\u001b[0m y_pred \u001b[38;5;241m=\u001b[39m []\n\u001b[0;32m     10\u001b[0m y_true \u001b[38;5;241m=\u001b[39m []\n\u001b[1;32m---> 11\u001b[0m \u001b[38;5;28;01mfor\u001b[39;00m inputs, labels \u001b[38;5;129;01min\u001b[39;00m tqdm(train_loader, mininterval\u001b[38;5;241m=\u001b[39m\u001b[38;5;241m1\u001b[39m):\n\u001b[0;32m     12\u001b[0m     inputs \u001b[38;5;241m=\u001b[39m inputs\u001b[38;5;241m.\u001b[39mto(device)\n\u001b[0;32m     13\u001b[0m     labels \u001b[38;5;241m=\u001b[39m labels\u001b[38;5;241m.\u001b[39mto(device)\n",
      "File \u001b[1;32m~\\PycharmProjects\\Simpsons\\venv\\lib\\site-packages\\tqdm\\std.py:1181\u001b[0m, in \u001b[0;36mtqdm.__iter__\u001b[1;34m(self)\u001b[0m\n\u001b[0;32m   1178\u001b[0m time \u001b[38;5;241m=\u001b[39m \u001b[38;5;28mself\u001b[39m\u001b[38;5;241m.\u001b[39m_time\n\u001b[0;32m   1180\u001b[0m \u001b[38;5;28;01mtry\u001b[39;00m:\n\u001b[1;32m-> 1181\u001b[0m     \u001b[38;5;28;01mfor\u001b[39;00m obj \u001b[38;5;129;01min\u001b[39;00m iterable:\n\u001b[0;32m   1182\u001b[0m         \u001b[38;5;28;01myield\u001b[39;00m obj\n\u001b[0;32m   1183\u001b[0m         \u001b[38;5;66;03m# Update and possibly print the progressbar.\u001b[39;00m\n\u001b[0;32m   1184\u001b[0m         \u001b[38;5;66;03m# Note: does not call self.update(1) for speed optimisation.\u001b[39;00m\n",
      "File \u001b[1;32m~\\PycharmProjects\\Simpsons\\venv\\lib\\site-packages\\torch\\utils\\data\\dataloader.py:631\u001b[0m, in \u001b[0;36m_BaseDataLoaderIter.__next__\u001b[1;34m(self)\u001b[0m\n\u001b[0;32m    628\u001b[0m \u001b[38;5;28;01mif\u001b[39;00m \u001b[38;5;28mself\u001b[39m\u001b[38;5;241m.\u001b[39m_sampler_iter \u001b[38;5;129;01mis\u001b[39;00m \u001b[38;5;28;01mNone\u001b[39;00m:\n\u001b[0;32m    629\u001b[0m     \u001b[38;5;66;03m# TODO(https://github.com/pytorch/pytorch/issues/76750)\u001b[39;00m\n\u001b[0;32m    630\u001b[0m     \u001b[38;5;28mself\u001b[39m\u001b[38;5;241m.\u001b[39m_reset()  \u001b[38;5;66;03m# type: ignore[call-arg]\u001b[39;00m\n\u001b[1;32m--> 631\u001b[0m data \u001b[38;5;241m=\u001b[39m \u001b[38;5;28;43mself\u001b[39;49m\u001b[38;5;241;43m.\u001b[39;49m\u001b[43m_next_data\u001b[49m\u001b[43m(\u001b[49m\u001b[43m)\u001b[49m\n\u001b[0;32m    632\u001b[0m \u001b[38;5;28mself\u001b[39m\u001b[38;5;241m.\u001b[39m_num_yielded \u001b[38;5;241m+\u001b[39m\u001b[38;5;241m=\u001b[39m \u001b[38;5;241m1\u001b[39m\n\u001b[0;32m    633\u001b[0m \u001b[38;5;28;01mif\u001b[39;00m \u001b[38;5;28mself\u001b[39m\u001b[38;5;241m.\u001b[39m_dataset_kind \u001b[38;5;241m==\u001b[39m _DatasetKind\u001b[38;5;241m.\u001b[39mIterable \u001b[38;5;129;01mand\u001b[39;00m \\\n\u001b[0;32m    634\u001b[0m         \u001b[38;5;28mself\u001b[39m\u001b[38;5;241m.\u001b[39m_IterableDataset_len_called \u001b[38;5;129;01mis\u001b[39;00m \u001b[38;5;129;01mnot\u001b[39;00m \u001b[38;5;28;01mNone\u001b[39;00m \u001b[38;5;129;01mand\u001b[39;00m \\\n\u001b[0;32m    635\u001b[0m         \u001b[38;5;28mself\u001b[39m\u001b[38;5;241m.\u001b[39m_num_yielded \u001b[38;5;241m>\u001b[39m \u001b[38;5;28mself\u001b[39m\u001b[38;5;241m.\u001b[39m_IterableDataset_len_called:\n",
      "File \u001b[1;32m~\\PycharmProjects\\Simpsons\\venv\\lib\\site-packages\\torch\\utils\\data\\dataloader.py:675\u001b[0m, in \u001b[0;36m_SingleProcessDataLoaderIter._next_data\u001b[1;34m(self)\u001b[0m\n\u001b[0;32m    673\u001b[0m \u001b[38;5;28;01mdef\u001b[39;00m \u001b[38;5;21m_next_data\u001b[39m(\u001b[38;5;28mself\u001b[39m):\n\u001b[0;32m    674\u001b[0m     index \u001b[38;5;241m=\u001b[39m \u001b[38;5;28mself\u001b[39m\u001b[38;5;241m.\u001b[39m_next_index()  \u001b[38;5;66;03m# may raise StopIteration\u001b[39;00m\n\u001b[1;32m--> 675\u001b[0m     data \u001b[38;5;241m=\u001b[39m \u001b[38;5;28;43mself\u001b[39;49m\u001b[38;5;241;43m.\u001b[39;49m\u001b[43m_dataset_fetcher\u001b[49m\u001b[38;5;241;43m.\u001b[39;49m\u001b[43mfetch\u001b[49m\u001b[43m(\u001b[49m\u001b[43mindex\u001b[49m\u001b[43m)\u001b[49m  \u001b[38;5;66;03m# may raise StopIteration\u001b[39;00m\n\u001b[0;32m    676\u001b[0m     \u001b[38;5;28;01mif\u001b[39;00m \u001b[38;5;28mself\u001b[39m\u001b[38;5;241m.\u001b[39m_pin_memory:\n\u001b[0;32m    677\u001b[0m         data \u001b[38;5;241m=\u001b[39m _utils\u001b[38;5;241m.\u001b[39mpin_memory\u001b[38;5;241m.\u001b[39mpin_memory(data, \u001b[38;5;28mself\u001b[39m\u001b[38;5;241m.\u001b[39m_pin_memory_device)\n",
      "File \u001b[1;32m~\\PycharmProjects\\Simpsons\\venv\\lib\\site-packages\\torch\\utils\\data\\_utils\\fetch.py:51\u001b[0m, in \u001b[0;36m_MapDatasetFetcher.fetch\u001b[1;34m(self, possibly_batched_index)\u001b[0m\n\u001b[0;32m     49\u001b[0m         data \u001b[38;5;241m=\u001b[39m \u001b[38;5;28mself\u001b[39m\u001b[38;5;241m.\u001b[39mdataset\u001b[38;5;241m.\u001b[39m__getitems__(possibly_batched_index)\n\u001b[0;32m     50\u001b[0m     \u001b[38;5;28;01melse\u001b[39;00m:\n\u001b[1;32m---> 51\u001b[0m         data \u001b[38;5;241m=\u001b[39m [\u001b[38;5;28mself\u001b[39m\u001b[38;5;241m.\u001b[39mdataset[idx] \u001b[38;5;28;01mfor\u001b[39;00m idx \u001b[38;5;129;01min\u001b[39;00m possibly_batched_index]\n\u001b[0;32m     52\u001b[0m \u001b[38;5;28;01melse\u001b[39;00m:\n\u001b[0;32m     53\u001b[0m     data \u001b[38;5;241m=\u001b[39m \u001b[38;5;28mself\u001b[39m\u001b[38;5;241m.\u001b[39mdataset[possibly_batched_index]\n",
      "File \u001b[1;32m~\\PycharmProjects\\Simpsons\\venv\\lib\\site-packages\\torch\\utils\\data\\_utils\\fetch.py:51\u001b[0m, in \u001b[0;36m<listcomp>\u001b[1;34m(.0)\u001b[0m\n\u001b[0;32m     49\u001b[0m         data \u001b[38;5;241m=\u001b[39m \u001b[38;5;28mself\u001b[39m\u001b[38;5;241m.\u001b[39mdataset\u001b[38;5;241m.\u001b[39m__getitems__(possibly_batched_index)\n\u001b[0;32m     50\u001b[0m     \u001b[38;5;28;01melse\u001b[39;00m:\n\u001b[1;32m---> 51\u001b[0m         data \u001b[38;5;241m=\u001b[39m [\u001b[38;5;28;43mself\u001b[39;49m\u001b[38;5;241;43m.\u001b[39;49m\u001b[43mdataset\u001b[49m\u001b[43m[\u001b[49m\u001b[43midx\u001b[49m\u001b[43m]\u001b[49m \u001b[38;5;28;01mfor\u001b[39;00m idx \u001b[38;5;129;01min\u001b[39;00m possibly_batched_index]\n\u001b[0;32m     52\u001b[0m \u001b[38;5;28;01melse\u001b[39;00m:\n\u001b[0;32m     53\u001b[0m     data \u001b[38;5;241m=\u001b[39m \u001b[38;5;28mself\u001b[39m\u001b[38;5;241m.\u001b[39mdataset[possibly_batched_index]\n",
      "File \u001b[1;32m~\\PycharmProjects\\Simpsons\\venv\\lib\\site-packages\\torchvision\\datasets\\folder.py:231\u001b[0m, in \u001b[0;36mDatasetFolder.__getitem__\u001b[1;34m(self, index)\u001b[0m\n\u001b[0;32m    229\u001b[0m sample \u001b[38;5;241m=\u001b[39m \u001b[38;5;28mself\u001b[39m\u001b[38;5;241m.\u001b[39mloader(path)\n\u001b[0;32m    230\u001b[0m \u001b[38;5;28;01mif\u001b[39;00m \u001b[38;5;28mself\u001b[39m\u001b[38;5;241m.\u001b[39mtransform \u001b[38;5;129;01mis\u001b[39;00m \u001b[38;5;129;01mnot\u001b[39;00m \u001b[38;5;28;01mNone\u001b[39;00m:\n\u001b[1;32m--> 231\u001b[0m     sample \u001b[38;5;241m=\u001b[39m \u001b[38;5;28;43mself\u001b[39;49m\u001b[38;5;241;43m.\u001b[39;49m\u001b[43mtransform\u001b[49m\u001b[43m(\u001b[49m\u001b[43msample\u001b[49m\u001b[43m)\u001b[49m\n\u001b[0;32m    232\u001b[0m \u001b[38;5;28;01mif\u001b[39;00m \u001b[38;5;28mself\u001b[39m\u001b[38;5;241m.\u001b[39mtarget_transform \u001b[38;5;129;01mis\u001b[39;00m \u001b[38;5;129;01mnot\u001b[39;00m \u001b[38;5;28;01mNone\u001b[39;00m:\n\u001b[0;32m    233\u001b[0m     target \u001b[38;5;241m=\u001b[39m \u001b[38;5;28mself\u001b[39m\u001b[38;5;241m.\u001b[39mtarget_transform(target)\n",
      "File \u001b[1;32m~\\PycharmProjects\\Simpsons\\venv\\lib\\site-packages\\torchvision\\transforms\\transforms.py:95\u001b[0m, in \u001b[0;36mCompose.__call__\u001b[1;34m(self, img)\u001b[0m\n\u001b[0;32m     93\u001b[0m \u001b[38;5;28;01mdef\u001b[39;00m \u001b[38;5;21m__call__\u001b[39m(\u001b[38;5;28mself\u001b[39m, img):\n\u001b[0;32m     94\u001b[0m     \u001b[38;5;28;01mfor\u001b[39;00m t \u001b[38;5;129;01min\u001b[39;00m \u001b[38;5;28mself\u001b[39m\u001b[38;5;241m.\u001b[39mtransforms:\n\u001b[1;32m---> 95\u001b[0m         img \u001b[38;5;241m=\u001b[39m \u001b[43mt\u001b[49m\u001b[43m(\u001b[49m\u001b[43mimg\u001b[49m\u001b[43m)\u001b[49m\n\u001b[0;32m     96\u001b[0m     \u001b[38;5;28;01mreturn\u001b[39;00m img\n",
      "File \u001b[1;32m~\\PycharmProjects\\Simpsons\\venv\\lib\\site-packages\\torchvision\\transforms\\transforms.py:137\u001b[0m, in \u001b[0;36mToTensor.__call__\u001b[1;34m(self, pic)\u001b[0m\n\u001b[0;32m    129\u001b[0m \u001b[38;5;28;01mdef\u001b[39;00m \u001b[38;5;21m__call__\u001b[39m(\u001b[38;5;28mself\u001b[39m, pic):\n\u001b[0;32m    130\u001b[0m \u001b[38;5;250m    \u001b[39m\u001b[38;5;124;03m\"\"\"\u001b[39;00m\n\u001b[0;32m    131\u001b[0m \u001b[38;5;124;03m    Args:\u001b[39;00m\n\u001b[0;32m    132\u001b[0m \u001b[38;5;124;03m        pic (PIL Image or numpy.ndarray): Image to be converted to tensor.\u001b[39;00m\n\u001b[1;32m   (...)\u001b[0m\n\u001b[0;32m    135\u001b[0m \u001b[38;5;124;03m        Tensor: Converted image.\u001b[39;00m\n\u001b[0;32m    136\u001b[0m \u001b[38;5;124;03m    \"\"\"\u001b[39;00m\n\u001b[1;32m--> 137\u001b[0m     \u001b[38;5;28;01mreturn\u001b[39;00m \u001b[43mF\u001b[49m\u001b[38;5;241;43m.\u001b[39;49m\u001b[43mto_tensor\u001b[49m\u001b[43m(\u001b[49m\u001b[43mpic\u001b[49m\u001b[43m)\u001b[49m\n",
      "File \u001b[1;32m~\\PycharmProjects\\Simpsons\\venv\\lib\\site-packages\\torchvision\\transforms\\functional.py:173\u001b[0m, in \u001b[0;36mto_tensor\u001b[1;34m(pic)\u001b[0m\n\u001b[0;32m    171\u001b[0m img \u001b[38;5;241m=\u001b[39m img\u001b[38;5;241m.\u001b[39mview(pic\u001b[38;5;241m.\u001b[39msize[\u001b[38;5;241m1\u001b[39m], pic\u001b[38;5;241m.\u001b[39msize[\u001b[38;5;241m0\u001b[39m], F_pil\u001b[38;5;241m.\u001b[39mget_image_num_channels(pic))\n\u001b[0;32m    172\u001b[0m \u001b[38;5;66;03m# put it from HWC to CHW format\u001b[39;00m\n\u001b[1;32m--> 173\u001b[0m img \u001b[38;5;241m=\u001b[39m \u001b[43mimg\u001b[49m\u001b[38;5;241;43m.\u001b[39;49m\u001b[43mpermute\u001b[49m\u001b[43m(\u001b[49m\u001b[43m(\u001b[49m\u001b[38;5;241;43m2\u001b[39;49m\u001b[43m,\u001b[49m\u001b[43m \u001b[49m\u001b[38;5;241;43m0\u001b[39;49m\u001b[43m,\u001b[49m\u001b[43m \u001b[49m\u001b[38;5;241;43m1\u001b[39;49m\u001b[43m)\u001b[49m\u001b[43m)\u001b[49m\u001b[38;5;241;43m.\u001b[39;49m\u001b[43mcontiguous\u001b[49m\u001b[43m(\u001b[49m\u001b[43m)\u001b[49m\n\u001b[0;32m    174\u001b[0m \u001b[38;5;28;01mif\u001b[39;00m \u001b[38;5;28misinstance\u001b[39m(img, torch\u001b[38;5;241m.\u001b[39mByteTensor):\n\u001b[0;32m    175\u001b[0m     \u001b[38;5;28;01mreturn\u001b[39;00m img\u001b[38;5;241m.\u001b[39mto(dtype\u001b[38;5;241m=\u001b[39mdefault_float_dtype)\u001b[38;5;241m.\u001b[39mdiv(\u001b[38;5;241m255\u001b[39m)\n",
      "\u001b[1;31mKeyboardInterrupt\u001b[0m: "
     ]
    }
   ],
   "source": [
    "train()"
   ]
  },
  {
   "cell_type": "markdown",
   "id": "d88e00d197b70f7d",
   "metadata": {},
   "source": [
    "#### Прогон модели на тестовых данных"
   ]
  },
  {
   "cell_type": "code",
   "execution_count": 33,
   "id": "7c198b923b1821eb",
   "metadata": {
    "ExecuteTime": {
     "end_time": "2024-05-02T13:22:17.391874Z",
     "start_time": "2024-05-02T13:22:17.179875Z"
    }
   },
   "outputs": [],
   "source": [
    "torch.save(optimizer.state_dict(), \"sgt_optimizer.pth\")"
   ]
  },
  {
   "cell_type": "code",
   "execution_count": null,
   "id": "63dde2ead7943c5c",
   "metadata": {
    "ExecuteTime": {
     "end_time": "2024-05-02T13:20:47.471666Z",
     "start_time": "2024-05-02T13:20:47.470667Z"
    }
   },
   "outputs": [],
   "source": [
    "print_classes_plot(test_dir)"
   ]
  },
  {
   "cell_type": "code",
   "execution_count": 34,
   "id": "a8e31762983de398",
   "metadata": {
    "ExecuteTime": {
     "end_time": "2024-05-02T13:27:34.187833Z",
     "start_time": "2024-05-02T13:27:26.455838Z"
    },
    "collapsed": false,
    "jupyter": {
     "outputs_hidden": false
    }
   },
   "outputs": [
    {
     "name": "stderr",
     "output_type": "stream",
     "text": [
      "100%|██████████| 60/60 [00:07<00:00,  7.79it/s]\n"
     ]
    }
   ],
   "source": [
    "y_true = []\n",
    "y_pred = []\n",
    "model.eval()\n",
    "with torch.no_grad():\n",
    "    for inputs, labels in tqdm(test_loader):\n",
    "        class_names = [test_dataset.idx_to_class[int(idx)] for idx in labels]\n",
    "        # y_true.extend([images_dataset.class_to_idx[name] for name in class_names])\n",
    "        y_true.extend(class_names)\n",
    "        inputs = inputs.to(device)\n",
    "        labels = labels.to(device)\n",
    "\n",
    "        outputs = model(inputs)\n",
    "\n",
    "        outputs = outputs\n",
    "        _, predicted = torch.max(outputs, 1)\n",
    "        # y_pred.extend(predicted.cpu().numpy())\n",
    "        y_pred.extend([images_dataset.idx_to_class[idx] for idx in predicted.cpu().numpy()])\n"
   ]
  },
  {
   "cell_type": "code",
   "execution_count": 35,
   "id": "44b5c8efc936f0e5",
   "metadata": {
    "ExecuteTime": {
     "end_time": "2024-05-02T13:27:34.203836Z",
     "start_time": "2024-05-02T13:27:34.190834Z"
    },
    "collapsed": false,
    "jupyter": {
     "outputs_hidden": false
    }
   },
   "outputs": [],
   "source": [
    "from sklearn.metrics import confusion_matrix\n",
    "\n",
    "cf_matrix = confusion_matrix(y_true, y_pred, labels=test_dataset.classes)"
   ]
  },
  {
   "cell_type": "code",
   "execution_count": 36,
   "id": "51afa270e0a6f987",
   "metadata": {
    "ExecuteTime": {
     "end_time": "2024-05-02T13:27:34.649836Z",
     "start_time": "2024-05-02T13:27:34.205835Z"
    },
    "collapsed": false,
    "jupyter": {
     "outputs_hidden": false
    }
   },
   "outputs": [
    {
     "name": "stderr",
     "output_type": "stream",
     "text": [
      "C:\\Users\\79137\\AppData\\Local\\Temp\\ipykernel_14448\\3451426370.py:8: UserWarning: set_ticklabels() should only be used with a fixed number of ticks, i.e. after set_ticks() or using a FixedLocator.\n",
      "  ax.set_xticklabels(test_dataset.classes)\n",
      "C:\\Users\\79137\\AppData\\Local\\Temp\\ipykernel_14448\\3451426370.py:9: UserWarning: set_ticklabels() should only be used with a fixed number of ticks, i.e. after set_ticks() or using a FixedLocator.\n",
      "  ax.set_yticklabels(test_dataset.classes)\n"
     ]
    },
    {
     "data": {
      "image/png": "[encoded data removed]",
      "text/plain": [
       "<Figure size 640x480 with 2 Axes>"
      ]
     },
     "metadata": {},
     "output_type": "display_data"
    }
   ],
   "source": [
    "from matplotlib.ticker import MaxNLocator\n",
    "\n",
    "fig = plt.figure()\n",
    "ax = fig.add_subplot(111)\n",
    "cax = ax.matshow(cf_matrix)\n",
    "plt.title('Confusion matrix of the classifier')\n",
    "fig.colorbar(cax)\n",
    "ax.set_xticklabels(test_dataset.classes)\n",
    "ax.set_yticklabels(test_dataset.classes)\n",
    "ax.yaxis.set_major_locator(MaxNLocator(prune='both'))\n",
    "ax.xaxis.set_major_locator(MaxNLocator(prune='both'))\n",
    "plt.xticks(rotation=90)\n",
    "plt.xlabel('Predicted')\n",
    "plt.ylabel('True')\n",
    "plt.show()"
   ]
  },
  {
   "cell_type": "code",
   "execution_count": 37,
   "id": "a7be22a44d5094bb",
   "metadata": {
    "ExecuteTime": {
     "end_time": "2024-05-02T13:27:34.680834Z",
     "start_time": "2024-05-02T13:27:34.652836Z"
    },
    "collapsed": false,
    "jupyter": {
     "outputs_hidden": false
    }
   },
   "outputs": [],
   "source": [
    "from sklearn.metrics import multilabel_confusion_matrix\n",
    "\n",
    "multi_cf = multilabel_confusion_matrix(y_true=y_true, y_pred=y_pred, labels=images_dataset.classes)"
   ]
  },
  {
   "cell_type": "markdown",
   "id": "3365c136bb71cf9e",
   "metadata": {
    "collapsed": false,
    "jupyter": {
     "outputs_hidden": false
    }
   },
   "source": [
    "![title](https://pythonru.com/wp-content/uploads/2021/03/matrica-oshibok-dlya-binarnoj-klassifikacii-1024x576.png)\n"
   ]
  },
  {
   "cell_type": "code",
   "execution_count": 38,
   "id": "9d397fd1f78c084b",
   "metadata": {
    "ExecuteTime": {
     "end_time": "2024-05-02T13:27:34.695837Z",
     "start_time": "2024-05-02T13:27:34.682836Z"
    },
    "collapsed": false,
    "jupyter": {
     "outputs_hidden": false
    }
   },
   "outputs": [
    {
     "name": "stdout",
     "output_type": "stream",
     "text": [
      "abraham_grampa_simpson\n",
      "accuracy: 1.0 \t\t precision: 1.0 \t\t recall: 1.0 \t\t f1: 1.0\n",
      "\n",
      "apu_nahasapeemapetilon\n",
      "accuracy: 1.0 \t\t precision: 1.0 \t\t recall: 1.0 \t\t f1: 1.0\n",
      "\n",
      "bart_simpson\n",
      "accuracy: 1.0 \t\t precision: 1.0 \t\t recall: 1.0 \t\t f1: 1.0\n",
      "\n",
      "charles_montgomery_burns\n",
      "accuracy: 0.999 \t\t precision: 0.9792 \t\t recall: 1.0 \t\t f1: 0.9895\n",
      "\n",
      "chief_wiggum\n",
      "accuracy: 1.0 \t\t precision: 1.0 \t\t recall: 1.0 \t\t f1: 1.0\n",
      "\n",
      "comic_book_guy\n",
      "accuracy: 1.0 \t\t precision: 1.0 \t\t recall: 1.0 \t\t f1: 1.0\n",
      "\n",
      "edna_krabappel\n",
      "accuracy: 0.999 \t\t precision: 1.0 \t\t recall: 0.9783 \t\t f1: 0.989\n",
      "\n",
      "homer_simpson\n",
      "accuracy: 0.999 \t\t precision: 1.0 \t\t recall: 0.9787 \t\t f1: 0.9892\n",
      "\n",
      "kent_brockman\n",
      "accuracy: 0.9969 \t\t precision: 1.0 \t\t recall: 0.9362 \t\t f1: 0.967\n",
      "\n",
      "krusty_the_clown\n",
      "accuracy: 1.0 \t\t precision: 1.0 \t\t recall: 1.0 \t\t f1: 1.0\n",
      "\n",
      "lenny_leonard\n",
      "accuracy: 0.999 \t\t precision: 1.0 \t\t recall: 0.9762 \t\t f1: 0.988\n",
      "\n",
      "lisa_simpson\n",
      "accuracy: 0.9969 \t\t precision: 0.9608 \t\t recall: 0.98 \t\t f1: 0.9703\n",
      "\n",
      "marge_simpson\n",
      "accuracy: 0.9979 \t\t precision: 0.98 \t\t recall: 0.98 \t\t f1: 0.98\n",
      "\n",
      "mayor_quimby\n",
      "accuracy: 1.0 \t\t precision: 1.0 \t\t recall: 1.0 \t\t f1: 1.0\n",
      "\n",
      "milhouse_van_houten\n",
      "accuracy: 0.999 \t\t precision: 1.0 \t\t recall: 0.9787 \t\t f1: 0.9892\n",
      "\n",
      "moe_szyslak\n",
      "accuracy: 0.999 \t\t precision: 0.98 \t\t recall: 1.0 \t\t f1: 0.9899\n",
      "\n",
      "ned_flanders\n",
      "accuracy: 1.0 \t\t precision: 1.0 \t\t recall: 1.0 \t\t f1: 1.0\n",
      "\n",
      "nelson_muntz\n",
      "accuracy: 1.0 \t\t precision: 1.0 \t\t recall: 1.0 \t\t f1: 1.0\n",
      "\n",
      "principal_skinner\n",
      "accuracy: 1.0 \t\t precision: 1.0 \t\t recall: 1.0 \t\t f1: 1.0\n",
      "\n",
      "sideshow_bob\n",
      "accuracy: 0.999 \t\t precision: 0.9792 \t\t recall: 1.0 \t\t f1: 0.9895\n",
      "\n"
     ]
    }
   ],
   "source": [
    "\n",
    "for class_name in images_dataset.classes:\n",
    "    idx = images_dataset.class_to_idx[class_name]\n",
    "    class_cf = np.flip(multi_cf[idx])\n",
    "    if class_name not in test_dataset.classes:\n",
    "        continue\n",
    "    tp = class_cf[0][0]\n",
    "    fn = class_cf[0][1]\n",
    "    fp = class_cf[1][0]\n",
    "    tn = class_cf[1][1]\n",
    "    total = class_cf.sum()\n",
    "    accuracy = (tp + tn) / total\n",
    "    precision = tp / (tp + fp)\n",
    "    recall = tp / (tp + fn)\n",
    "    f1 = 2 * precision * recall / (precision + recall)\n",
    "    print(class_name)\n",
    "    print(f\"accuracy: {round(accuracy, 4)} \\t\\t precision: {round(precision, 4)} \\t\\t recall: {round(recall, 4)} \\t\\t f1: {round(f1, 4)}\\n\")"
   ]
  },
  {
   "cell_type": "code",
   "execution_count": 43,
   "id": "979134f0865c5085",
   "metadata": {
    "ExecuteTime": {
     "end_time": "2024-05-02T13:31:05.292425Z",
     "start_time": "2024-05-02T13:31:05.261425Z"
    },
    "collapsed": false,
    "jupyter": {
     "outputs_hidden": false
    }
   },
   "outputs": [
    {
     "name": "stdout",
     "output_type": "stream",
     "text": [
      "===TEST===\n",
      "accuracy: 0.9905759162303664\n",
      "macro precision_score: 0.903596256684492\n",
      "macro recall_score: 0.9003667439560131\n",
      "macro f1_score: 0.9018924443159908\n"
     ]
    },
    {
     "name": "stderr",
     "output_type": "stream",
     "text": [
      "C:\\Users\\79137\\PycharmProjects\\Simpsons\\venv\\lib\\site-packages\\sklearn\\metrics\\_classification.py:1509: UndefinedMetricWarning: Recall is ill-defined and being set to 0.0 in labels with no true samples. Use `zero_division` parameter to control this behavior.\n",
      "  _warn_prf(average, modifier, f\"{metric.capitalize()} is\", len(result))\n"
     ]
    }
   ],
   "source": [
    "print(\"===TEST===\")\n",
    "print(f\"accuracy: {accuracy_score(y_true=y_true, y_pred=y_pred)}\")\n",
    "print(f\"macro precision_score: {precision_score(y_true=y_true, y_pred=y_pred, average='macro')}\")\n",
    "print(f\"macro recall_score: {recall_score(y_true=y_true, y_pred=y_pred, average='macro')}\")\n",
    "print(f\"macro f1_score: {f1_score(y_true=y_true, y_pred=y_pred, average='macro')}\")\n"
   ]
  },
  {
   "cell_type": "code",
   "execution_count": null,
   "id": "cbc306eb78ebede5",
   "metadata": {
    "collapsed": false,
    "jupyter": {
     "outputs_hidden": false
    }
   },
   "outputs": [],
   "source": [
    "writer.close()"
   ]
  }
 ],
 "metadata": {
  "kernelspec": {
   "display_name": "Python 3 (ipykernel)",
   "language": "python",
   "name": "python3"
  },
  "language_info": {
   "codemirror_mode": {
    "name": "ipython",
    "version": 3
   },
   "file_extension": ".py",
   "mimetype": "text/x-python",
   "name": "python",
   "nbconvert_exporter": "python",
   "pygments_lexer": "ipython3",
   "version": "3.10.4"
  }
 },
 "nbformat": 4,
 "nbformat_minor": 5
}
